{
 "cells": [
  {
   "attachments": {
    "LuFgi9.png": {
     "image/png": "[encoded data removed]"
    }
   },
   "cell_type": "markdown",
   "id": "167fda54",
   "metadata": {
    "deletable": false,
    "editable": false,
    "tags": []
   },
   "source": [
    "<center><img width=\"250\"  align=\"right\" src=\"attachment:LuFgi9.png\" /></center>\n",
    "\n",
    "<br>\n",
    "<br>\n",
    "<br>\n",
    "<br>\n",
    "\n",
    "<center>\n",
    "    <h1> Scientific Programming for AI with Python</h1>\n",
    "    <h2> Exercise 3</h2>\n",
    "</center>"
   ]
  },
  {
   "cell_type": "markdown",
   "id": "93ff9c34",
   "metadata": {
    "cell_id": "A1.a.TD",
    "deletable": false,
    "editable": false,
    "tags": []
   },
   "source": [
    "# Task 1\n",
    "\n",
    "## a)\n",
    "\n",
    "Create a dictionary, named `animals`, that includes animals from different animal groups as a `set` respectively:\n",
    "\n",
    "\n",
    "\n",
    "- mammals: elefant, zebra, horse\n",
    "- birds: duck, pigeon, turkey\n",
    "- fishes: tuna, salmon\n",
    "- insects: fly, bee, ant, bug"
   ]
  },
  {
   "cell_type": "markdown",
   "id": "f7a6c04f-1332-4c92-b678-67fa11d4e3d9",
   "metadata": {
    "cell_id": "A1.a.H.1",
    "deletable": false,
    "editable": false,
    "tags": []
   },
   "source": [
    "_**Optional:**_\n",
    "\n",
    "_If you cannot find a solution at the beginning, first note down the information given about the initial situation. Then think about and write down the individual steps you would take to arrive at the overall solution:_"
   ]
  },
  {
   "cell_type": "markdown",
   "id": "054b430c-f927-4829-a0c3-a23916ef46b8",
   "metadata": {
    "cell_id": "A1.a.IS.Markdown",
    "deletable": false,
    "tags": []
   },
   "source": []
  },
  {
   "cell_type": "markdown",
   "id": "e95d9812-9e29-4418-9e50-bc4360d05289",
   "metadata": {
    "cell_id": "A1.a.H.2",
    "deletable": false,
    "editable": false,
    "tags": []
   },
   "source": [
    "_Develop your code based on your individual steps:_"
   ]
  },
  {
   "cell_type": "code",
   "execution_count": null,
   "id": "2989cfb0",
   "metadata": {
    "cell_id": "A1.a.IS.Code",
    "deletable": false,
    "tags": []
   },
   "outputs": [],
   "source": [
    "# YOUR CODE HERE "
   ]
  },
  {
   "cell_type": "markdown",
   "id": "dff0b72c",
   "metadata": {
    "cell_id": "A1.b.TD",
    "deletable": false,
    "editable": false,
    "tags": []
   },
   "source": [
    "## b)\n",
    "\n",
    "Add a new animal group (*reptiles: turtle, crocodile, snake*) to the dictionary `animals`. Furthermore, remove the animal group *insects* from the dictionary. The new animal group and each new animal should again be individual `str`, while all new animals are collected together as a `set` in the new animal group.\n",
    "\n",
    "**Important:** Work directly on the dictionary `animals` and do not create a new one from scratch, as other changes may already have been made in the meantime. You can solve the task independently from subtask a)."
   ]
  },
  {
   "cell_type": "markdown",
   "id": "26fc07f1-e6af-48f1-a8ea-5e2281e0bac1",
   "metadata": {
    "cell_id": "A1.b.H.1",
    "deletable": false,
    "editable": false,
    "tags": []
   },
   "source": [
    "_**Optional:**_\n",
    "\n",
    "_If you cannot find a solution at the beginning, first note down the information given about the initial situation. Then think about and write down the individual steps you would take to arrive at the overall solution:_"
   ]
  },
  {
   "cell_type": "markdown",
   "id": "f98f7bcc-ef38-467f-924c-3c57c97cc239",
   "metadata": {
    "cell_id": "A1.b.IS.Markdown",
    "deletable": false,
    "tags": []
   },
   "source": []
  },
  {
   "cell_type": "markdown",
   "id": "a13812cb-d736-4e4d-a47f-ffaabdda27e6",
   "metadata": {
    "cell_id": "A1.b.H.2",
    "deletable": false,
    "editable": false,
    "tags": []
   },
   "source": [
    "_Develop your code based on your individual steps:_"
   ]
  },
  {
   "cell_type": "code",
   "execution_count": null,
   "id": "d393daa4",
   "metadata": {
    "cell_id": "A1.b.IS.Code",
    "deletable": false,
    "tags": []
   },
   "outputs": [],
   "source": [
    "# animals is already predefined, so do not initialize animals here again\n",
    "\n",
    "# YOUR CODE HERE"
   ]
  },
  {
   "cell_type": "markdown",
   "id": "c0cbf9b0",
   "metadata": {
    "cell_id": "A1.c.TD",
    "deletable": false,
    "editable": false,
    "tags": []
   },
   "source": [
    "## c)\n",
    "\n",
    "Create two lists, `animal_groups` and `animal_examples`. The list `animal_groups` should contain all animal groups contained in the dictionary `animals`. The list `animal_examples` contains the different values of the dictionary. Both lists (`animal_groups` and `animal_examples`) have the same length.\n",
    "\n",
    "**Important**: Work directly on the dictionary `animals` and do not create a new one from scratch, as other changes may already have been made in the meantime. You can solve the task independently from subtask a) & b)."
   ]
  },
  {
   "cell_type": "markdown",
   "id": "f241377a-6a04-426c-aa75-86c712279a48",
   "metadata": {
    "cell_id": "A1.c.H.1",
    "deletable": false,
    "editable": false,
    "tags": []
   },
   "source": [
    "_**Optional:**_\n",
    "\n",
    "_If you cannot find a solution at the beginning, first note down the information given about the initial situation. Then think about and write down the individual steps you would take to arrive at the overall solution:_"
   ]
  },
  {
   "cell_type": "markdown",
   "id": "b298c7df-008f-4648-8f0e-78b0f9416954",
   "metadata": {
    "cell_id": "A1.c.IS.Markdown",
    "deletable": false,
    "tags": []
   },
   "source": []
  },
  {
   "cell_type": "markdown",
   "id": "b05113be-73ea-4fa0-96a0-77820d9d4ef0",
   "metadata": {
    "cell_id": "A1.c.H.2",
    "deletable": false,
    "editable": false,
    "tags": []
   },
   "source": [
    "_Develop your code based on your individual steps:_"
   ]
  },
  {
   "cell_type": "code",
   "execution_count": null,
   "id": "563d2323",
   "metadata": {
    "cell_id": "A1.c.IS.Code",
    "deletable": false,
    "tags": []
   },
   "outputs": [],
   "source": [
    "# animals is already predefined, so do not initialize animals here again\n",
    "\n",
    "# YOUR CODE HERE"
   ]
  },
  {
   "cell_type": "markdown",
   "id": "325854cc",
   "metadata": {
    "cell_id": "A2.TD",
    "deletable": false,
    "editable": false,
    "tags": []
   },
   "source": [
    "---\n",
    "# Task 2\n",
    "Create a `list` `numbers_five_nine` containing all numbers that are divisible by both 5 and 9 using a `for`\\-loop. The loop should iterate all number from 0 up to and including 197351."
   ]
  },
  {
   "cell_type": "markdown",
   "id": "febc715c-839f-4147-9ad0-bc4864d461df",
   "metadata": {
    "cell_id": "A2.H.1",
    "deletable": false,
    "editable": false,
    "tags": []
   },
   "source": [
    "_**Optional:**_\n",
    "\n",
    "_If you cannot find a solution at the beginning, first note down the information given about the initial situation. Then think about and write down the individual steps you would take to arrive at the overall solution:_"
   ]
  },
  {
   "cell_type": "markdown",
   "id": "20e85a19-2201-4b49-a110-827c559aadd7",
   "metadata": {
    "cell_id": "A2.IS.Markdown",
    "deletable": false,
    "tags": []
   },
   "source": []
  },
  {
   "cell_type": "markdown",
   "id": "7ccb7eb4-1713-463c-ae6c-04ae2352f887",
   "metadata": {
    "cell_id": "A2.H.2",
    "deletable": false,
    "editable": false,
    "tags": []
   },
   "source": [
    "_Develop your code based on your individual steps:_"
   ]
  },
  {
   "cell_type": "code",
   "execution_count": null,
   "id": "f1fb9ded",
   "metadata": {
    "cell_id": "A2.IS.Code",
    "deletable": false,
    "tags": []
   },
   "outputs": [],
   "source": [
    "# YOUR CODE HERE"
   ]
  },
  {
   "cell_type": "markdown",
   "id": "d55a08f1-7814-414c-a401-f6019f79fdcf",
   "metadata": {
    "cell_id": "A3.TD",
    "deletable": false,
    "editable": false,
    "tags": []
   },
   "source": [
    "---\n",
    "# Task 3\n",
    "The oral examinations are completed and the results are stored in the dictionary `results_oral_exam` given below. In order to enter the results into the system, two lists, `passed` and `failed`, must be created.\n"
   ]
  },
  {
   "cell_type": "markdown",
   "id": "374807e2",
   "metadata": {
    "cell_id": "A3.a.TD.1",
    "deletable": false,
    "editable": false,
    "tags": []
   },
   "source": [
    "## a)\n",
    "\n",
    "Create the list `passed` using a `for`\\-loop. This list should contain all registration numbers of those students, who have passed (`True`) the oral exam.\n",
    "\n",
    "**Hint:** The built-in method `items()` might be very useful here."
   ]
  },
  {
   "cell_type": "code",
   "execution_count": null,
   "id": "46bd2c57-1c01-410d-87bf-8f0eb5b3129a",
   "metadata": {
    "cell_id": "A3.a.TD.2",
    "deletable": false,
    "editable": false,
    "tags": []
   },
   "outputs": [],
   "source": [
    "results_oral_exam = {\"154880\": True, \"379355\": False, \"437492\": True, \"212711\": True, \"141777\": True, \"340407\": False}"
   ]
  },
  {
   "cell_type": "markdown",
   "id": "bdb216fe-9aff-4445-8862-e52ca4885b42",
   "metadata": {
    "cell_id": "A3.a.H.1",
    "deletable": false,
    "editable": false,
    "tags": []
   },
   "source": [
    "_**Optional:**_\n",
    "\n",
    "_If you cannot find a solution at the beginning, first note down the information given about the initial situation. Then think about and write down the individual steps you would take to arrive at the overall solution:_"
   ]
  },
  {
   "cell_type": "markdown",
   "id": "bbda4300-22e4-4120-8594-3ef1d0ac1adc",
   "metadata": {
    "cell_id": "A3.a.IS.Markdown",
    "deletable": false,
    "tags": []
   },
   "source": []
  },
  {
   "cell_type": "markdown",
   "id": "950045eb-1473-472d-a814-75f01ce16e28",
   "metadata": {
    "cell_id": "A3.a.H.2",
    "deletable": false,
    "editable": false,
    "tags": []
   },
   "source": [
    "_Develop your code based on your individual steps:_"
   ]
  },
  {
   "cell_type": "code",
   "execution_count": null,
   "id": "8db55d84",
   "metadata": {
    "cell_id": "A3.a.IS.Code",
    "deletable": false,
    "tags": []
   },
   "outputs": [],
   "source": [
    "# YOUR CODE HERE"
   ]
  },
  {
   "cell_type": "markdown",
   "id": "dd59fcc6-5683-4801-b057-35f4dde9a197",
   "metadata": {
    "cell_id": "A3.b.TD.1",
    "deletable": false,
    "editable": false,
    "tags": []
   },
   "source": [
    "## b)\n",
    "\n",
    "Now create the list `failed` using a `while`\\-loop. This list should contain all matriculation numbers of those students, who have failed (`False`) the oral exam."
   ]
  },
  {
   "cell_type": "code",
   "execution_count": null,
   "id": "4a21aa01-f144-4181-a3e7-6b28395a533f",
   "metadata": {
    "cell_id": "A3.b.TD.2",
    "deletable": false,
    "editable": false,
    "tags": []
   },
   "outputs": [],
   "source": [
    "results_oral_exam = {\"154880\": True, \"379355\": False, \"437492\": True, \"212711\": True, \"141777\": True, \"340407\": False}"
   ]
  },
  {
   "cell_type": "markdown",
   "id": "4ae2c8d2-c35f-44fd-90e9-65626e1471a9",
   "metadata": {
    "cell_id": "A3.b.H.1",
    "deletable": false,
    "editable": false,
    "tags": []
   },
   "source": [
    "_**Optional:**_\n",
    "\n",
    "_If you cannot find a solution at the beginning, first note down the information given about the initial situation. Then think about and write down the individual steps you would take to arrive at the overall solution:_"
   ]
  },
  {
   "cell_type": "markdown",
   "id": "69047cb8-67da-49c0-a5f9-22a249bcefff",
   "metadata": {
    "cell_id": "A3.b.IS.Markdown",
    "deletable": false,
    "tags": []
   },
   "source": []
  },
  {
   "cell_type": "markdown",
   "id": "729e341d-d091-49d1-88a0-b0422ee21bf0",
   "metadata": {
    "cell_id": "A3.b.H.2",
    "deletable": false,
    "editable": false,
    "tags": []
   },
   "source": [
    "_Develop your code based on your individual steps:_"
   ]
  },
  {
   "cell_type": "code",
   "execution_count": null,
   "id": "7f6d31db",
   "metadata": {
    "cell_id": "A3.b.IS.Code",
    "deletable": false,
    "tags": []
   },
   "outputs": [],
   "source": [
    "# YOUR CODE HERE"
   ]
  },
  {
   "attachments": {
    "2a0361e7-88de-4b45-ab57-1157e3e8506f.png": {
     "image/png": "[encoded data removed]"
    }
   },
   "cell_type": "markdown",
   "id": "96a5b08a-683d-44ef-bd5b-5f28e7383a3a",
   "metadata": {
    "cell_id": "A4.TD.1",
    "deletable": false,
    "editable": false,
    "tags": []
   },
   "source": [
    "# Task 4\n",
    "\n",
    "In the last exercise you got to know the basics of the representation of GreyScale images with the help of `list`s. For data-based sciences, it is precisely the analysis of such images that is important.\n",
    "\n",
    "The first step is to identify the brightest pixels in the image. Therefore, write a piece of code that finds the coordinates of the brightest pixel. If several pixels are the brightest, it does not matter which of these pixels is found. If the list `image` changes, your code should still find the coordinates of the brightest pixel. Your code should also work on bigger images than 3x3.\n",
    "\n",
    "*Example: The brightest pixel within the image `[[0,1,15],[100,20,35],[53,50,70]]` has the coordinates x=0, y=1.*\n",
    "*`image[y][x]` describes the pixel of the coordinate x and y.*\n",
    "\n",
    "**Use the following variables:**\n",
    "\n",
    "- `image`: list representation of the image =\\> the contents of image are already predefined\n",
    "- `cord_x`: x coordinate of the brightest pixel =\\> need to be calculated\n",
    "- `cord_y`: y coordinate of the brightest pixel =\\> need to be calculated\n",
    "\n",
    "**Hint:** You do not need to use any built-in functions. You can assume, that only square images are evaluated.\n",
    "\n",
    "<div style=\"text-align: center;\">\n",
    "    <img src=\"attachment:2a0361e7-88de-4b45-ab57-1157e3e8506f.png\"/>   \n",
    "    <p style=\"text-align: center;\">Example image and internal representation: [[0,1,15],[100,20,35],[53,50,70]]</p>\n",
    "</div>"
   ]
  },
  {
   "cell_type": "code",
   "execution_count": null,
   "id": "d31986fb",
   "metadata": {
    "cell_id": "A4.TD.2",
    "deletable": false,
    "editable": false,
    "tags": []
   },
   "outputs": [],
   "source": [
    "image = [[0,1,15],[100,20,35],[53,50,70]] # example image, image is changeable "
   ]
  },
  {
   "cell_type": "markdown",
   "id": "db6c15e0-c246-4774-b4c6-4f0bd9615395",
   "metadata": {
    "cell_id": "A4.H.1",
    "deletable": false,
    "editable": false,
    "tags": []
   },
   "source": [
    "_**Optional:**_\n",
    "\n",
    "_If you cannot find a solution at the beginning, first note down the information given about the initial situation. Then think about and write down the individual steps you would take to arrive at the overall solution:_"
   ]
  },
  {
   "cell_type": "markdown",
   "id": "866cef1e-348a-4952-92dd-518fb90853e5",
   "metadata": {
    "cell_id": "A4.IS.Markdown",
    "deletable": false,
    "tags": []
   },
   "source": []
  },
  {
   "cell_type": "markdown",
   "id": "32c89bb0-387f-4cad-b00a-6a214494ddf7",
   "metadata": {
    "cell_id": "A4.H.2",
    "deletable": false,
    "editable": false,
    "tags": []
   },
   "source": [
    "_Develop your code based on your individual steps:_"
   ]
  },
  {
   "cell_type": "code",
   "execution_count": null,
   "id": "2b57a553",
   "metadata": {
    "cell_id": "A4.IS.Code",
    "deletable": false,
    "tags": []
   },
   "outputs": [],
   "source": [
    "# YOUR CODE HERE"
   ]
  }
 ],
 "metadata": {
  "celltoolbar": "Create Assignment",
  "kernelspec": {
   "display_name": "Python 3 (ipykernel)",
   "language": "python",
   "name": "python3"
  },
  "language_info": {
   "codemirror_mode": {
    "name": "ipython",
    "version": 3
   },
   "file_extension": ".py",
   "mimetype": "text/x-python",
   "name": "python",
   "nbconvert_exporter": "python",
   "pygments_lexer": "ipython3",
   "version": "3.9.7"
  },
  "notebook_name": "codingai/Exercise3.ipynb",
  "vscode": {
   "interpreter": {
    "hash": "b0fa6594d8f4cbf19f97940f81e996739fb7646882a419484c72d19e05852a7e"
   }
  }
 },
 "nbformat": 4,
 "nbformat_minor": 5
}
