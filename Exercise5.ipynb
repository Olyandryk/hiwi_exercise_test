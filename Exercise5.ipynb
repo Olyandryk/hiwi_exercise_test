{
 "cells": [
  {
   "attachments": {
    "LuFgi9.png": {
     "image/png": "[encoded data removed]"
    }
   },
   "cell_type": "markdown",
   "id": "f7e8e594",
   "metadata": {
    "deletable": false,
    "editable": false,
    "tags": []
   },
   "source": [
    "<center><img width=\"250\"  align=\"right\" src=\"attachment:LuFgi9.png\" /></center>\n",
    "\n",
    "<br>\n",
    "<br>\n",
    "<br>\n",
    "<br>\n",
    "\n",
    "<center>\n",
    "    <h1> Scientific Programming for AI with Python</h1>\n",
    "    <h2> Exercise 5</h2>\n",
    "</center>"
   ]
  },
  {
   "cell_type": "markdown",
   "id": "37dc8ac3",
   "metadata": {
    "cell_id": "A1.TD",
    "deletable": false,
    "editable": false,
    "tags": []
   },
   "source": [
    "# Task 1\n",
    "\n",
    "To make your programs more powerful, you can import other modules and their functions. Solve the following tasks with suitable functions from the following modules which must be imported in advance: `math`, `random`, `datetime`, `string`, `statistics`"
   ]
  },
  {
   "cell_type": "markdown",
   "id": "a52ba961-6c22-462b-904e-8ded4c937448",
   "metadata": {
    "cell_id": "A1.a.TD",
    "deletable": false,
    "editable": false,
    "tags": []
   },
   "source": [
    "## a)\n",
    "\n",
    "Create the function `create_random_set(…)`, which has three parameters: `size`, `min_value`, `max_value`. \n",
    "This function shall return a randomly generated set of integers of length `size` where the set values are between `min_value` and `max_value`. You can assume that only correct data is passed to the function.\n",
    "\n",
    "*For example, `create_random_set(5, -85, 53)` should return a set like `{-83, 42, 53, -15, 0}`.*"
   ]
  },
  {
   "cell_type": "markdown",
   "id": "040e266c-fd5d-47f1-b040-f9acceea1753",
   "metadata": {
    "cell_id": "A1.a.H.1",
    "deletable": false,
    "editable": false,
    "tags": []
   },
   "source": [
    "_**Optional:**_\n",
    "\n",
    "_If you cannot find a solution at the beginning, first note down the information given about the initial situation. Then think about and write down the individual steps you would take to reach the overall solution:_"
   ]
  },
  {
   "cell_type": "markdown",
   "id": "4a2bbc60-264a-4cee-826f-c8fc8e516ad0",
   "metadata": {
    "cell_id": "A1.a.IS.Markdown",
    "deletable": false,
    "tags": []
   },
   "source": []
  },
  {
   "cell_type": "markdown",
   "id": "25bdf574-192b-4b9e-be20-2ce6bb35e5a6",
   "metadata": {
    "cell_id": "A1.a.H.2",
    "deletable": false,
    "editable": false,
    "tags": []
   },
   "source": [
    "_Develop your code based on your individual steps:_"
   ]
  },
  {
   "cell_type": "code",
   "execution_count": null,
   "id": "1f06145e",
   "metadata": {
    "cell_id": "A1.a.IS.Code",
    "tags": []
   },
   "outputs": [],
   "source": []
  },
  {
   "cell_type": "markdown",
   "id": "e0942eab",
   "metadata": {
    "cell_id": "A1.b.TD",
    "deletable": false,
    "editable": false,
    "tags": []
   },
   "source": [
    "## b)\n",
    "\n",
    "Write the function `days_until_christmas_eve(...)`, which has four parameters: `xmas_year, year, month, day`. \n",
    "This function should calculate how many days (as an `int`) are left from the given date (`year`, `month`, `day`) until `24.12.xmas_year` and return this number of days. You can assume that only correct data is passed to the function.\n",
    "\n",
    "*For example, `days_until_christmas_eve(2022, 2020, 9, 18)` should return the integer 827.*"
   ]
  },
  {
   "cell_type": "markdown",
   "id": "a0e32ef5-df62-42ac-afbe-5df6a880be56",
   "metadata": {
    "cell_id": "A1.b.H.1",
    "deletable": false,
    "editable": false,
    "tags": []
   },
   "source": [
    "_**Optional:**_\n",
    "\n",
    "_If you cannot find a solution at the beginning, first note down the information given about the initial situation. Then think about and write down the individual steps you would take to reach the overall solution:_"
   ]
  },
  {
   "cell_type": "markdown",
   "id": "a23696ac-a4be-4196-8c0c-11e5a2bedd7b",
   "metadata": {
    "cell_id": "A1.b.IS.Markdown",
    "deletable": false,
    "tags": []
   },
   "source": []
  },
  {
   "cell_type": "markdown",
   "id": "e96d6879-8cd7-4d81-8f0d-09dd6938ca14",
   "metadata": {
    "cell_id": "A1.b.H.2",
    "deletable": false,
    "editable": false,
    "tags": []
   },
   "source": [
    "_Develop your code based on your individual steps:_"
   ]
  },
  {
   "cell_type": "code",
   "execution_count": null,
   "id": "93305c97",
   "metadata": {
    "cell_id": "A1.b.IS.Code",
    "tags": []
   },
   "outputs": [],
   "source": []
  },
  {
   "cell_type": "markdown",
   "id": "a9decca7",
   "metadata": {
    "cell_id": "A1.c.TD",
    "deletable": false,
    "editable": false,
    "tags": []
   },
   "source": [
    "## c)\n",
    "\n",
    "Implement the function `mean_colour(...)` that gets a greyscale image as an input parameter and which calculates the arithmetic mean (“average”) colour of a greyscale image.\n",
    "\n",
    "*For example, `mean_colour([[254, 175], [164, 65]])` should return the float 164.5.*\n",
    "\n",
    "**Hint:** First calculate the arithmetic mean of each line of a greyscale image and then the mean of all \"linemeans\"."
   ]
  },
  {
   "cell_type": "markdown",
   "id": "1e37cb2f-edb1-4834-89ef-4d80f338ac86",
   "metadata": {
    "cell_id": "A1.c.H.1",
    "deletable": false,
    "editable": false,
    "tags": []
   },
   "source": [
    "_**Optional:**_\n",
    "\n",
    "_If you cannot find a solution at the beginning, first note down the information given about the initial situation. Then think about and write down the individual steps you would take to reach the overall solution:_"
   ]
  },
  {
   "cell_type": "markdown",
   "id": "1d831a37-6871-4455-a0c7-3ead11367332",
   "metadata": {
    "cell_id": "A1.c.IS.Markdown",
    "deletable": false,
    "tags": []
   },
   "source": []
  },
  {
   "cell_type": "markdown",
   "id": "27343c37-ed92-42fd-b2f2-c7e2b6e95e3e",
   "metadata": {
    "cell_id": "A1.c.H.2",
    "deletable": false,
    "editable": false,
    "tags": []
   },
   "source": [
    "_Develop your code based on your individual steps:_"
   ]
  },
  {
   "cell_type": "code",
   "execution_count": null,
   "id": "ddfd7bf5",
   "metadata": {
    "cell_id": "A1.c.IS.Code",
    "deletable": false,
    "tags": []
   },
   "outputs": [],
   "source": []
  }
 ],
 "metadata": {
  "celltoolbar": "Create Assignment",
  "interpreter": {
   "hash": "b0fa6594d8f4cbf19f97940f81e996739fb7646882a419484c72d19e05852a7e"
  },
  "kernelspec": {
   "display_name": "Python 3 (ipykernel)",
   "language": "python",
   "name": "python3"
  },
  "language_info": {
   "codemirror_mode": {
    "name": "ipython",
    "version": 3
   },
   "file_extension": ".py",
   "mimetype": "text/x-python",
   "name": "python",
   "nbconvert_exporter": "python",
   "pygments_lexer": "ipython3",
   "version": "3.9.7"
  },
  "notebook_name": "codingai/Exercise5.ipynb"
 },
 "nbformat": 4,
 "nbformat_minor": 5
}
