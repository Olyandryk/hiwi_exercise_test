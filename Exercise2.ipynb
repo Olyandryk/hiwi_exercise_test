{
 "cells": [
  {
   "attachments": {
    "LuFgi9.png": {
     "image/png": "[encoded data removed]"
    }
   },
   "cell_type": "markdown",
   "id": "b2ddf77d",
   "metadata": {
    "deletable": false,
    "editable": false,
    "tags": []
   },
   "source": [
    "<center><img width=\"250\"  align=\"right\" src=\"attachment:LuFgi9.png\" /></center>\n",
    "\n",
    "<br>\n",
    "<br>\n",
    "<br>\n",
    "<br>\n",
    "\n",
    "<center>\n",
    "    <h1> Scientific Programming for AI with Python</h1>\n",
    "    <h2> Exercise 2</h2>\n",
    "</center>"
   ]
  },
  {
   "cell_type": "markdown",
   "id": "bdf84044",
   "metadata": {
    "cell_id": "A1.TD.1",
    "deletable": false,
    "editable": false,
    "tags": []
   },
   "source": [
    "# Task 1\n",
    "\n",
    "Specify various properties of the list `temperatures_celsius` by using the appropriate methods on the built-in data structures or slicing / indexing.\n",
    "\n",
    "**Important**: The elements of the list may have changed in the meantime."
   ]
  },
  {
   "cell_type": "code",
   "execution_count": null,
   "id": "ec0a7d94-0858-438d-878c-ddb11ef45471",
   "metadata": {
    "cell_id": "A1.TD.2",
    "deletable": false,
    "editable": false,
    "tags": []
   },
   "outputs": [],
   "source": [
    "# Example values for temperatures_celsius\n",
    "temperatures_celsius = [9.8, 15.0, 12.5, 8.4, -1.9, 15.0, 2.7]"
   ]
  },
  {
   "cell_type": "markdown",
   "id": "76a4fa85",
   "metadata": {
    "cell_id": "A1.a.TD",
    "deletable": false,
    "editable": false,
    "tags": []
   },
   "source": [
    "# a)\n",
    "\n",
    "`occurences_fifteen`: Stores how often the element `15.0` occurs."
   ]
  },
  {
   "cell_type": "markdown",
   "id": "85f70349-530e-4260-af1e-9af684c98bfc",
   "metadata": {
    "cell_id": "A1.a.H.1",
    "deletable": false,
    "editable": false,
    "tags": []
   },
   "source": [
    "_**Optional:**_\n",
    "\n",
    "_If you cannot find a solution at the beginning, first note down the information given about the initial situation. Then think about and write down the individual steps you would take to reach the overall solution:_"
   ]
  },
  {
   "cell_type": "markdown",
   "id": "d40207d2-afb4-4392-80f3-1a5e8ff907e8",
   "metadata": {
    "cell_id": "A1.a.IS.Markdown",
    "deletable": false,
    "editable": false,
    "tags": []
   },
   "source": []
  },
  {
   "cell_type": "markdown",
   "id": "3146a1ff-819a-47a1-b001-9a388789cbe1",
   "metadata": {
    "cell_id": "A1.a.H.2",
    "deletable": false,
    "editable": false,
    "tags": []
   },
   "source": [
    "_Develop your code based on your individual steps:_"
   ]
  },
  {
   "cell_type": "code",
   "execution_count": null,
   "id": "f4c29603",
   "metadata": {
    "cell_id": "A1.a.IS.Code",
    "deletable": false,
    "tags": []
   },
   "outputs": [],
   "source": [
    "# temperatures_celsius is already predefined\n"
   ]
  },
  {
   "cell_type": "markdown",
   "id": "deb9ab27",
   "metadata": {
    "cell_id": "A1.b.TD",
    "deletable": false,
    "editable": false,
    "tags": []
   },
   "source": [
    "# b)\n",
    "\n",
    "`third_element`: Stores the third element within the list. The original list is not allowed to be changed."
   ]
  },
  {
   "cell_type": "markdown",
   "id": "bdbf884a-cdcd-47f3-9bf9-5ab55a697cd6",
   "metadata": {
    "cell_id": "A1.b.H.1",
    "deletable": false,
    "editable": false,
    "tags": []
   },
   "source": [
    "_**Optional:**_\n",
    "\n",
    "_If you cannot find a solution at the beginning, first note down the information given about the initial situation. Then think about and write down the individual steps you would take to reach the overall solution:_"
   ]
  },
  {
   "cell_type": "markdown",
   "id": "4f0d8865-83cb-470b-9fa0-3b6ed588c8ee",
   "metadata": {
    "cell_id": "A1.b.IS.Markdown",
    "deletable": false,
    "editable": false,
    "tags": []
   },
   "source": []
  },
  {
   "cell_type": "markdown",
   "id": "b1e8f44f-dd9c-4e53-af97-94060c55ab77",
   "metadata": {
    "cell_id": "A1.b.H.2",
    "deletable": false,
    "editable": false,
    "tags": []
   },
   "source": [
    "_Develop your code based on your individual steps:_"
   ]
  },
  {
   "cell_type": "code",
   "execution_count": null,
   "id": "d01fae84",
   "metadata": {
    "cell_id": "A1.b.IS.Code",
    "deletable": false,
    "tags": []
   },
   "outputs": [],
   "source": [
    "# temperatures_celsius is already predefined\n"
   ]
  },
  {
   "cell_type": "markdown",
   "id": "1d049303",
   "metadata": {
    "cell_id": "A1.c.TD",
    "deletable": false,
    "editable": false,
    "tags": []
   },
   "source": [
    "# c)\n",
    "\n",
    "`index_minus`: Stores the index for the first occurrence of `-1.9`."
   ]
  },
  {
   "cell_type": "markdown",
   "id": "d28dae0a-0bb2-490d-9508-0d8c030c560d",
   "metadata": {
    "cell_id": "A1.c.H.1",
    "deletable": false,
    "editable": false,
    "tags": []
   },
   "source": [
    "_**Optional:**_\n",
    "\n",
    "_If you cannot find a solution at the beginning, first note down the information given about the initial situation. Then think about and write down the individual steps you would take to reach the overall solution:_"
   ]
  },
  {
   "cell_type": "markdown",
   "id": "98a0e7c2-a045-4e57-97da-e249c42d8430",
   "metadata": {
    "cell_id": "A1.c.IS.Markdown",
    "deletable": false,
    "editable": false,
    "tags": []
   },
   "source": []
  },
  {
   "cell_type": "markdown",
   "id": "dd966547-7edb-4fdd-9ff8-3aa110194716",
   "metadata": {
    "cell_id": "A1.c.H.2",
    "deletable": false,
    "editable": false,
    "tags": []
   },
   "source": [
    "_Develop your code based on your individual steps:_"
   ]
  },
  {
   "cell_type": "code",
   "execution_count": null,
   "id": "55e79503",
   "metadata": {
    "cell_id": "A1.c.IS.Code",
    "deletable": false,
    "tags": []
   },
   "outputs": [],
   "source": [
    "# temperatures_celsius is already predefined\n"
   ]
  },
  {
   "cell_type": "markdown",
   "id": "61c42d0c",
   "metadata": {
    "cell_id": "A1.d.TD",
    "deletable": false,
    "editable": false,
    "tags": []
   },
   "source": [
    "# d)\n",
    "\n",
    "Remove the 4th element from the list `temperatures_celsius`. \n",
    "\n",
    "**Important:** The result does not have to be saved in any variable."
   ]
  },
  {
   "cell_type": "markdown",
   "id": "ba9380a8-7244-4fbf-8cff-c1aacc84c0ab",
   "metadata": {
    "cell_id": "A1.d.H.1",
    "deletable": false,
    "editable": false,
    "tags": []
   },
   "source": [
    "_**Optional:**_\n",
    "\n",
    "_If you cannot find a solution at the beginning, first note down the information given about the initial situation. Then think about and write down the individual steps you would take to reach the overall solution:_"
   ]
  },
  {
   "cell_type": "markdown",
   "id": "2d396c6b-6ae5-4c24-b277-fa8c8cca9694",
   "metadata": {
    "cell_id": "A1.d.IS.Markdown",
    "deletable": false,
    "editable": false,
    "tags": []
   },
   "source": []
  },
  {
   "cell_type": "markdown",
   "id": "76726e42-9df8-42f6-bfc8-903649a3cfdf",
   "metadata": {
    "cell_id": "A1.d.H.2",
    "deletable": false,
    "editable": false,
    "tags": []
   },
   "source": [
    "_Develop your code based on your individual steps:_"
   ]
  },
  {
   "cell_type": "code",
   "execution_count": null,
   "id": "f7043269",
   "metadata": {
    "cell_id": "A1.d.IS.Code",
    "deletable": false,
    "tags": []
   },
   "outputs": [],
   "source": [
    "# temperatures_celsius is already predefined\n"
   ]
  },
  {
   "attachments": {
    "c28b511a-83a8-4838-b92c-470f11c1a4a8.jpg": {
     "image/jpeg": "[encoded data removed]"
    }
   },
   "cell_type": "markdown",
   "id": "d6e9ba21",
   "metadata": {
    "cell_id": "A2.TD",
    "deletable": false,
    "editable": false,
    "tags": []
   },
   "source": [
    "---\n",
    "# Task 2\n",
    "\n",
    "In order to store the number of students in each study programme in terms of semesters, two dimensional lists are to be used. A selection should look as follows:\n",
    "\n",
    "![Uebung2_Implementation_Task2.jpg](attachment:c28b511a-83a8-4838-b92c-470f11c1a4a8.jpg)"
   ]
  },
  {
   "cell_type": "markdown",
   "id": "af3d984e-f0b6-41f1-8a6f-4cec4284799f",
   "metadata": {
    "cell_id": "A2.a.TD",
    "deletable": false,
    "editable": false,
    "tags": []
   },
   "source": [
    "# a)\n",
    "\n",
    "Create the data structure as given above in the variable `university`:"
   ]
  },
  {
   "cell_type": "markdown",
   "id": "c5809cf6-fa16-4626-9fd2-6c7dc97c8945",
   "metadata": {
    "cell_id": "A2.a.H.1",
    "deletable": false,
    "editable": false,
    "tags": []
   },
   "source": [
    "_**Optional:**_\n",
    "\n",
    "_If you cannot find a solution at the beginning, first note down the information given about the initial situation. Then think about and write down the individual steps you would take to reach the overall solution:_"
   ]
  },
  {
   "cell_type": "markdown",
   "id": "b2a01ef0-59a2-4e87-8575-f0ffc05c2f2e",
   "metadata": {
    "cell_id": "A2.a.IS.Markdown",
    "deletable": false,
    "editable": false,
    "tags": []
   },
   "source": []
  },
  {
   "cell_type": "markdown",
   "id": "16e5a165-bf5d-4ba4-86a0-26d5c6a59455",
   "metadata": {
    "cell_id": "A2.a.H.2",
    "deletable": false,
    "editable": false,
    "tags": []
   },
   "source": [
    "_Develop your code based on your individual steps:_"
   ]
  },
  {
   "cell_type": "code",
   "execution_count": null,
   "id": "1f11e85a",
   "metadata": {
    "cell_id": "A2.a.IS.Code",
    "deletable": false,
    "tags": []
   },
   "outputs": [],
   "source": []
  },
  {
   "cell_type": "markdown",
   "id": "72b780b5",
   "metadata": {
    "cell_id": "A2.b.TD",
    "deletable": false,
    "editable": false,
    "tags": []
   },
   "source": [
    "# b)\n",
    "\n",
    "When creating this data, the third study programme was saved accidentally, which has not existed for a long time. In order to keep track of the fact that this course no longer exists, the third element of `university` should simply contain the value `None`.\n",
    "\n",
    "**Hint:** If you cannot solve task part a), assume that the list `university` exists."
   ]
  },
  {
   "cell_type": "markdown",
   "id": "2ef33593-df25-490a-b144-ad727f14fa7d",
   "metadata": {
    "cell_id": "A2.b.H.1",
    "deletable": false,
    "editable": false,
    "tags": []
   },
   "source": [
    "_**Optional:**_\n",
    "\n",
    "_If you cannot find a solution at the beginning, first note down the information given about the initial situation. Then think about and write down the individual steps you would take to reach the overall solution:_"
   ]
  },
  {
   "cell_type": "markdown",
   "id": "bc2787ad-d392-420e-b8cd-9f209ae231c3",
   "metadata": {
    "cell_id": "A2.b.IS.Markdown",
    "deletable": false,
    "editable": false,
    "tags": []
   },
   "source": []
  },
  {
   "cell_type": "markdown",
   "id": "78918935-c1be-44b5-8542-d0805bb61ba3",
   "metadata": {
    "cell_id": "A2.b.H.2",
    "deletable": false,
    "editable": false,
    "tags": []
   },
   "source": [
    "_Develop your code based on your individual steps:_\n"
   ]
  },
  {
   "cell_type": "code",
   "execution_count": null,
   "id": "549212ff",
   "metadata": {
    "cell_id": "A2.b.IS.Code",
    "deletable": false,
    "tags": []
   },
   "outputs": [],
   "source": [
    "# university is already predefined \n"
   ]
  },
  {
   "cell_type": "markdown",
   "id": "b23343e1",
   "metadata": {
    "cell_id": "A2.c.TD",
    "deletable": false,
    "editable": false,
    "tags": []
   },
   "source": [
    "# c)\n",
    "\n",
    "There were also small errors when entering the numbers. All numbers from the 5th semester must be increased by 2.\n",
    "\n",
    "**Hint:** If you cannot solve task part a) or b), assume that the list `university` exists."
   ]
  },
  {
   "cell_type": "markdown",
   "id": "24773233-c799-43e6-a5d1-64af2ec04b38",
   "metadata": {
    "cell_id": "A2.c.H.1",
    "deletable": false,
    "editable": false,
    "tags": []
   },
   "source": [
    "_**Optional:**_\n",
    "\n",
    "_If you cannot find a solution at the beginning, first note down the information given about the initial situation. Then think about and write down the individual steps you would take to reach the overall solution:_"
   ]
  },
  {
   "cell_type": "markdown",
   "id": "7df003d4-ff09-4471-a0b4-3a37d1d837ad",
   "metadata": {
    "cell_id": "A2.c.IS.Markdown",
    "deletable": false,
    "editable": false,
    "tags": []
   },
   "source": []
  },
  {
   "cell_type": "markdown",
   "id": "7620b280-f0db-45e2-88f8-e80777bbed01",
   "metadata": {
    "cell_id": "A2.c.H.2",
    "deletable": false,
    "editable": false,
    "tags": []
   },
   "source": [
    "_Develop your code based on your individual steps:_"
   ]
  },
  {
   "cell_type": "code",
   "execution_count": null,
   "id": "314be24f",
   "metadata": {
    "cell_id": "A2.c.IS.Code",
    "deletable": false,
    "tags": []
   },
   "outputs": [],
   "source": [
    "# university is already predefined \n"
   ]
  },
  {
   "cell_type": "markdown",
   "id": "26c17a89-45b0-4515-ae58-123d1e362203",
   "metadata": {
    "cell_id": "A3.TD",
    "deletable": false,
    "editable": false,
    "tags": []
   },
   "source": [
    "---\n",
    "# Task 3"
   ]
  },
  {
   "cell_type": "markdown",
   "id": "86d890e8-d7cc-4b3a-8b91-584bbedad33f",
   "metadata": {
    "cell_id": "A3.a.TD",
    "deletable": false,
    "editable": false,
    "tags": []
   },
   "source": [
    "# a)\n",
    "\n",
    "A series of data has been collected in an experiment. The expected values were noted beforehand in the table below. Represent the expected values in the set `expected_values`:\n",
    "\n",
    "\n",
    "\n",
    "| -64 | 53 | 67 | 24 | 98 | -83 | 103|\n",
    "|-----|----|----|----|----|-----|----|"
   ]
  },
  {
   "cell_type": "markdown",
   "id": "b7a6bc91-f091-480e-81d8-8fe5084dbad8",
   "metadata": {
    "cell_id": "A3.a.H.1",
    "deletable": false,
    "editable": false,
    "tags": []
   },
   "source": [
    "_**Optional:**_\n",
    "\n",
    "_If you cannot find a solution at the beginning, first note down the information given about the initial situation. Then think about and write down the individual steps you would take to reach the overall solution:_"
   ]
  },
  {
   "cell_type": "markdown",
   "id": "5e6f9171-09eb-4c44-aa2f-b901e73bd09e",
   "metadata": {
    "cell_id": "A3.a.IS.Markdown",
    "deletable": false,
    "editable": false,
    "tags": []
   },
   "source": []
  },
  {
   "cell_type": "markdown",
   "id": "626c48db-2870-42c6-a182-9e98937857cb",
   "metadata": {
    "cell_id": "A3.a.H.2",
    "deletable": false,
    "editable": false,
    "tags": []
   },
   "source": [
    "_Develop your code based on your individual steps:_"
   ]
  },
  {
   "cell_type": "code",
   "execution_count": null,
   "id": "fa90a832",
   "metadata": {
    "cell_id": "A3.a.IS.Code",
    "deletable": false,
    "tags": []
   },
   "outputs": [],
   "source": []
  },
  {
   "cell_type": "markdown",
   "id": "7736d922",
   "metadata": {
    "cell_id": "A3.b.TD.1",
    "deletable": false,
    "editable": false,
    "tags": []
   },
   "source": [
    "# b)\n",
    "\n",
    "During the experiment, the data is stored in the list `collected_data`. For the further process, it is relevant which data match. Therefore, create two `set`s by using appropriate methods:\n",
    "\n",
    "- `matches`: contains all data that are common for `expected_values` and `collected_data`\n",
    "- `non_matches`: contains all data that was expected but not collected\n",
    "\n",
    "**Note:** If you were not able to solve a), assume that the variable `expected_values` already exists."
   ]
  },
  {
   "cell_type": "code",
   "execution_count": null,
   "id": "26b22e88-6644-4e55-bdaa-7e134f0c53b8",
   "metadata": {
    "cell_id": "A3.b.TD.2",
    "deletable": false,
    "editable": false,
    "tags": []
   },
   "outputs": [],
   "source": [
    "import random\n",
    "collected_data = []\n",
    "for x in range(0, 250):\n",
    "    collected_data.append(random.randint(-100, 150))"
   ]
  },
  {
   "cell_type": "markdown",
   "id": "64e0cc40-f36c-4c78-ae83-a1939fe81b80",
   "metadata": {
    "cell_id": "A3.b.H.1",
    "deletable": false,
    "editable": false,
    "tags": []
   },
   "source": [
    "_**Optional:**_\n",
    "\n",
    "_If you cannot find a solution at the beginning, first note down the information given about the initial situation. Then think about and write down the individual steps you would take to reach the overall solution:_"
   ]
  },
  {
   "cell_type": "markdown",
   "id": "1b894ea5-5620-4fd9-b2d4-0d9cda98d3d2",
   "metadata": {
    "cell_id": "A3.b.IS.Markdown",
    "deletable": false,
    "editable": false,
    "tags": []
   },
   "source": []
  },
  {
   "cell_type": "markdown",
   "id": "2fbf238f-dee3-4ce2-913e-01cd0702567c",
   "metadata": {
    "cell_id": "A3.b.H.2",
    "deletable": false,
    "editable": false,
    "tags": []
   },
   "source": [
    "_Develop your code based on your individual steps:_"
   ]
  },
  {
   "cell_type": "code",
   "execution_count": null,
   "id": "caad900b",
   "metadata": {
    "cell_id": "A3.b.IS.Code",
    "deletable": false,
    "tags": []
   },
   "outputs": [],
   "source": []
  },
  {
   "attachments": {
    "%C3%9Cbung_2_example.png": {
     "image/png": "[encoded data removed]"
    }
   },
   "cell_type": "markdown",
   "id": "6bc51d1a",
   "metadata": {
    "cell_id": "A4.TD.1",
    "deletable": false,
    "editable": false,
    "tags": []
   },
   "source": [
    "---\n",
    "# Task 4\n",
    "\n",
    "# Information\n",
    "\n",
    "In Computers pictures are often saved as a sequence of bytes. A coloured picture is usually made up of 3 Bytes for each pixel representing the intensity of Red, Green and Blue respectively. Greyscale images usually require one Byte per pixel representing the brightness of the pixel.\n",
    "\n",
    "Images are a topic you will see more often in the excersise so we will start to familiarize ourselves with them.\n",
    "\n",
    "For now we will look at greyscale images. We will represent images as follows:\n",
    "- Each Pixel is encoded as in integer in the range of 0-255.\n",
    "- 0 being a black pixel and 255 a white pixel.\n",
    "- Each row of the image is a `list` of integers.\n",
    "- The first integer being the leftmost pixel in that row.\n",
    "- An image is a `list` of rows, i.e. a `list` of `list`s, where the first entry is the top line of the image.\n",
    "\n",
    "</br>\n",
    "<div style=\"text-align: center;\">\n",
    "    <img src=\"attachment:%C3%9Cbung_2_example.png\"/>   \n",
    "    <p style=\"text-align: center;\">Example of a greyscale image: [[255,170],[85,0]]</p>\n",
    "</div>\n",
    "\n"
   ]
  },
  {
   "attachments": {
    "%C3%9Cbung_2.png": {
     "image/png": "[encoded data removed]"
    }
   },
   "cell_type": "markdown",
   "id": "61601cb6",
   "metadata": {
    "cell_id": "A4.TD.2",
    "deletable": false,
    "editable": false,
    "tags": []
   },
   "source": [
    "# Task Definition\n",
    "\n",
    "Given the image below, create the variable `image` that represents the image. Use these integer values for the colors:\n",
    "\n",
    "- white: 255\n",
    "- light grey: 170\n",
    "- dark grey: 85\n",
    "- black: 0\n",
    "</br>\n",
    "<div style=\"text-align: center;\">\n",
    "    <img src=\"attachment:%C3%9Cbung_2.png\"/>   \n",
    "</div>\n"
   ]
  },
  {
   "cell_type": "markdown",
   "id": "92671126-6dc6-4bbe-a032-3494613878fb",
   "metadata": {
    "cell_id": "A4.H.1",
    "deletable": false,
    "editable": false,
    "tags": []
   },
   "source": [
    "_**Optional:**_\n",
    "\n",
    "_If you cannot find a solution at the beginning, first note down the information given about the initial situation. Then think about and write down the individual steps you would take to reach the overall solution:_"
   ]
  },
  {
   "cell_type": "markdown",
   "id": "a54f0869-8190-4e6b-83b0-792c6f47d7c8",
   "metadata": {
    "cell_id": "A4.IS.Markdown",
    "deletable": false,
    "editable": false,
    "tags": []
   },
   "source": []
  },
  {
   "cell_type": "markdown",
   "id": "fb3af3ac-80bb-4426-9034-29b947de348c",
   "metadata": {
    "cell_id": "A4.H.2",
    "deletable": false,
    "editable": false,
    "tags": []
   },
   "source": [
    "_Develop your code based on your individual steps:_"
   ]
  },
  {
   "cell_type": "code",
   "execution_count": null,
   "id": "02ffea88",
   "metadata": {
    "cell_id": "A4.IS.Code",
    "deletable": false,
    "tags": []
   },
   "outputs": [],
   "source": []
  }
 ],
 "metadata": {
  "celltoolbar": "Create Assignment",
  "kernelspec": {
   "display_name": "Python 3 (ipykernel)",
   "language": "python",
   "name": "python3"
  },
  "language_info": {
   "codemirror_mode": {
    "name": "ipython",
    "version": 3
   },
   "file_extension": ".py",
   "mimetype": "text/x-python",
   "name": "python",
   "nbconvert_exporter": "python",
   "pygments_lexer": "ipython3",
   "version": "3.9.7"
  },
  "notebook_name": "codingai/Exercise2.ipynb",
  "notebook_name_p4ds": "Exercise2.ipynb"
 },
 "nbformat": 4,
 "nbformat_minor": 5
}
