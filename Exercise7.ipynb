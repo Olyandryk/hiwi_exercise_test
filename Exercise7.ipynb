{
 "cells": [
  {
   "cell_type": "markdown",
   "id": "f7e8e594",
   "metadata": {
    "deletable": false,
    "editable": false,
    "tags": []
   },
   "source": [
    "<center><img width=\"250\"  align=\"right\" src=\"attachment:LuFgi9.png\" /></center>\n",
    "\n",
    "<br>\n",
    "<br>\n",
    "<br>\n",
    "<br>\n",
    "\n",
    "<center>\n",
    "    <h1> Scientific Programming for AI with Python</h1>\n",
    "    <h2> Exercise 7</h2>\n",
    "</center>"
   ]
  },
  {
   "cell_type": "markdown",
   "id": "37dc8ac3",
   "metadata": {
    "cell_id": "A1.TD.1",
    "deletable": false,
    "editable": false,
    "tags": []
   },
   "source": [
    "# Task 1\n",
    "\n",
    "Given is an iterative variant for the calculation of the checksum `checksum_iterative(number)`. The checksum of a number is the sum of its digits. For example, the checksum of the number 721365 is 7+2+1+3+6+5 = 24.\n",
    "\n",
    "Implement the recursive function `checksum(number)` with the same functionality as `checksum_iterative(number)`.\n",
    "\n",
    "**Hint:** Only positive integers (\\>=0) are passed to the function.\n"
   ]
  },
  {
   "cell_type": "code",
   "execution_count": null,
   "id": "04919138-20f2-430e-919f-d723318e75f3",
   "metadata": {
    "cell_id": "A1.TD.2",
    "deletable": false,
    "editable": false,
    "tags": []
   },
   "outputs": [],
   "source": [
    "def checksum_iterative(number):\n",
    "    result = 0\n",
    "    while(number > 0):\n",
    "        result += number % 10\n",
    "        number //= 10        \n",
    "    return result"
   ]
  },
  {
   "cell_type": "markdown",
   "id": "d062c949-3a1f-4034-889f-fea8bdc6d4fb",
   "metadata": {
    "cell_id": "A1.H.1",
    "deletable": false,
    "editable": false,
    "tags": []
   },
   "source": [
    "_**Optional:**_\n",
    "\n",
    "_If you cannot find a solution at the beginning, first note down the information given about the initial situation. Then think about and write down the individual steps you would take to reach the overall solution:_"
   ]
  },
  {
   "cell_type": "markdown",
   "id": "22756946-bd67-4f7a-b046-9e143577bd80",
   "metadata": {
    "cell_id": "A1.IS.Markdown",
    "deletable": false,
    "tags": []
   },
   "source": []
  },
  {
   "cell_type": "markdown",
   "id": "213400dd-e6b7-4e92-b426-fff6c1434c25",
   "metadata": {
    "cell_id": "A1.H.2",
    "deletable": false,
    "editable": false,
    "tags": []
   },
   "source": [
    "_Develop your code based on your individual steps:_\n"
   ]
  },
  {
   "cell_type": "code",
   "execution_count": null,
   "id": "6a4bea9f",
   "metadata": {},
   "outputs": [],
   "source": []
  },
  {
   "cell_type": "markdown",
   "id": "2f28cc9f-b86a-4971-9800-eb597479ef46",
   "metadata": {
    "cell_id": "A2.TD",
    "deletable": false,
    "editable": false,
    "tags": []
   },
   "source": [
    "---\n",
    "# Task 2\n",
    "\n",
    "Write the recursive function `gcd(a, b)`, which calculates the greatest common divisor (**GCD**) of two positive integers (\\>= 0) `a` and `b` and returns it.\n",
    "\n",
    "The recursive solution should utilise the mathematical property of the GCD to reduce the calculation to smaller and smaller subproblems. The idea is to find the GCD of two numbers by repeatedly applying a algorithm based on the property:\n",
    "\n",
    "1. if `b` equals 0, the GCD of `a` and `b` equals `a`.\n",
    "1. otherwise, calculate the GCD of `b` and `a % b` (the remainder of `a` divided by `b`).\n",
    "\n",
    "<br>\n",
    "\n",
    "*Examples for calling the function are given in the table below:*\n",
    "\n",
    "|     Call | Return |   | Call | Return |\n",
    "|---------------|-------------------|---|---------------|-------------------|\n",
    "| `gcd(0,0)`    | `0`               |   | `gcd(5,5)`    | `5`               |\n",
    "| `gcd(1,0)`    | `1`               |   | `gcd(9,6)`    | `3`               |\n",
    "| `gcd(0,1)`    | `1`               |   | `gcd(8,18)`   | `2`               |\n",
    "| `gcd(2,0)`    | `2`               |   | `gcd(16,48)`  | `16`               |"
   ]
  },
  {
   "cell_type": "markdown",
   "id": "99526bff-c810-440b-8190-acddc4e9a830",
   "metadata": {
    "cell_id": "A2.H.1",
    "deletable": false,
    "editable": false,
    "tags": []
   },
   "source": [
    "_**Optional:**_\n",
    "\n",
    "_If you cannot find a solution at the beginning, first note down the information given about the initial situation. Then think about and write down the individual steps you would take to reach the overall solution:_"
   ]
  },
  {
   "cell_type": "markdown",
   "id": "3bdaea11-211d-4fd3-b7b7-7a48648b722b",
   "metadata": {
    "cell_id": "A2.IS.Markdown",
    "deletable": false,
    "tags": []
   },
   "source": []
  },
  {
   "cell_type": "markdown",
   "id": "da8baecd-976c-45d4-964c-53f255ac47a1",
   "metadata": {
    "cell_id": "A2.H.2",
    "deletable": false,
    "editable": false,
    "tags": []
   },
   "source": [
    "_Develop your code based on your individual steps:_\n"
   ]
  },
  {
   "cell_type": "code",
   "execution_count": null,
   "id": "23f3b541-2d82-404b-99ad-04186c740c99",
   "metadata": {
    "cell_id": "A2.IS.Code",
    "deletable": false,
    "tags": []
   },
   "outputs": [],
   "source": []
  },
  {
   "cell_type": "markdown",
   "id": "619d3d28-cbd3-4a30-8d29-7fa0bd35a2c4",
   "metadata": {
    "cell_id": "A3.TD",
    "deletable": false,
    "editable": false,
    "tags": []
   },
   "source": [
    "---\n",
    "# Task 3\n",
    "\n",
    "Write the recursive function `subsequence(seq, subseq)` that takes two strings, named `seq` and `subseq`, and returns `True` if the second string is a subsequence of the first one and `False` otherwise.\n",
    "\n",
    "The following conditions apply to a subsequence:\n",
    "\n",
    "- The letters of `subseq` must occur in the correct order in `seq`.\n",
    "- The letters of `subseq` do not have to occur consecutively in `seq`, there may be other letters in between.\n",
    "- If the string `subseq` contains a letter that `seq` does not, `subseq` is not a substring of `seq`.\n",
    "- If the string `subseq` is empty, `subseq` is a substring of `seq`.\n",
    "- The upper and lower case is relevant for a subsequence.\n",
    "\n",
    "*Example calls and the corresponding returns are given in the table below:*\n",
    "\n",
    "| Call                          | Return |\n",
    "|----------------------------------------|-------------------|\n",
    "| `subsequence(\"cardealership\", \"cadl\")` | `True`            |\n",
    "| `subsequence(\"python\", \"tony\")`        | `False`           |\n",
    "| `subsequence(\"test\", \"\")`              | `True`            |\n",
    "| `subsequence(\"\", \"test\")`              | `False`           |"
   ]
  },
  {
   "cell_type": "markdown",
   "id": "348532a6-3831-4760-9012-e91fd716ba42",
   "metadata": {
    "cell_id": "A3.H.1",
    "deletable": false,
    "editable": false,
    "tags": []
   },
   "source": [
    "_**Optional:**_\n",
    "\n",
    "_If you cannot find a solution at the beginning, first note down the information given about the initial situation. Then think about and write down the individual steps you would take to reach the overall solution:_"
   ]
  },
  {
   "cell_type": "markdown",
   "id": "5237013b-b3e0-4eb8-9e50-9f7b87e57c73",
   "metadata": {
    "cell_id": "A3.IS.Markdown",
    "deletable": false,
    "tags": []
   },
   "source": []
  },
  {
   "cell_type": "markdown",
   "id": "95448ec8-05be-4880-b639-9867b7814cd6",
   "metadata": {
    "cell_id": "A3.H.2",
    "deletable": false,
    "editable": false,
    "tags": []
   },
   "source": [
    "_Develop your code based on your individual steps:_\n"
   ]
  },
  {
   "cell_type": "code",
   "execution_count": null,
   "id": "151d5290-cf75-432e-a138-29d7adfa0d87",
   "metadata": {
    "cell_id": "A3.IS.Code",
    "deletable": false,
    "tags": []
   },
   "outputs": [],
   "source": []
  }
 ],
 "metadata": {
  "celltoolbar": "Create Assignment",
  "interpreter": {
   "hash": "b0fa6594d8f4cbf19f97940f81e996739fb7646882a419484c72d19e05852a7e"
  },
  "kernelspec": {
   "display_name": "Python 3 (ipykernel)",
   "language": "python",
   "name": "python3"
  },
  "language_info": {
   "codemirror_mode": {
    "name": "ipython",
    "version": 3
   },
   "file_extension": ".py",
   "mimetype": "text/x-python",
   "name": "python",
   "nbconvert_exporter": "python",
   "pygments_lexer": "ipython3",
   "version": "3.9.7"
  },
  "notebook_name": "codingai/Exercise7.ipynb"
 },
 "nbformat": 4,
 "nbformat_minor": 5
}
