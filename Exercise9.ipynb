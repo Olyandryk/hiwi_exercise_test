{
 "cells": [
  {
   "cell_type": "markdown",
   "id": "f7e8e594",
   "metadata": {
    "deletable": false,
    "editable": false,
    "tags": []
   },
   "source": [
    "<center><img width=\"250\"  align=\"right\" src=\"attachment:LuFgi9.png\" /></center>\n",
    "\n",
    "<br>\n",
    "<br>\n",
    "<br>\n",
    "<br>\n",
    "\n",
    "<center>\n",
    "    <h1> Scientific Programming for AI with Python</h1>\n",
    "    <h2> Exercise 11</h2>\n",
    "</center>"
   ]
  },
  {
   "cell_type": "markdown",
   "id": "f14a7880-5a1d-4287-acfd-79ce0eb51c39",
   "metadata": {
    "cell_id": "A1.a.TD",
    "deletable": false,
    "editable": false,
    "tags": []
   },
   "source": [
    "# Task 1\n",
    "\n",
    "## a)\n",
    "\n",
    "Write the generator function`alternating(value)`, that generates the passed parameter `value`  alternating between positive and negative, starting with the initially passed value.\n",
    "\n",
    "<br>\n",
    "\n",
    "*Examples for `alternating(value):`*\n",
    "\n",
    "```python\n",
    "a = alternating(2)\n",
    "print(next(a)) # prints value 2\n",
    "print(next(a)) # prints value -2\n",
    "print(next(a)) # prints value 2\n",
    "print(next(a)) # prints value -2\n",
    "\n",
    "b = alternating(-5)\n",
    "print(next(b)) # prints value -5\n",
    "print(next(b)) # prints value 5\n",
    "print(next(b)) # prints value -5\n",
    "print(next(b)) # prints value 5\n",
    "```"
   ]
  },
  {
   "cell_type": "markdown",
   "id": "65c6f51a-08e5-4399-b3d6-71493ebb10f9",
   "metadata": {
    "cell_id": "A1.a.H.1",
    "deletable": false,
    "editable": false,
    "tags": []
   },
   "source": [
    "_**Optional:**_\n",
    "\n",
    "_If you cannot find a solution at the beginning, first note down the information given about the initial situation. Then think about and write down the individual steps you would take to reach the overall solution:_"
   ]
  },
  {
   "cell_type": "markdown",
   "id": "6689d247-c7f6-4acf-be2b-5ab6bd8a126f",
   "metadata": {
    "cell_id": "A1.a.IS.Markdown",
    "deletable": false,
    "tags": []
   },
   "source": []
  },
  {
   "cell_type": "markdown",
   "id": "7604de60-ccea-4f6a-8156-ea71d867e56d",
   "metadata": {
    "cell_id": "A1.a.H.2",
    "deletable": false,
    "editable": false,
    "tags": []
   },
   "source": [
    "_Develop your code based on your individual steps:_\n"
   ]
  },
  {
   "cell_type": "code",
   "execution_count": null,
   "id": "b3ed4659-086e-4416-8229-ed3ed5dc130e",
   "metadata": {
    "cell_id": "A1.a.IS.Code",
    "deletable": false,
    "tags": []
   },
   "outputs": [],
   "source": []
  },
  {
   "cell_type": "markdown",
   "id": "e6bb1f11-8e27-489b-b57f-4c3e8a3acf94",
   "metadata": {
    "cell_id": "A1.b.TD",
    "deletable": false,
    "editablse": false,
    "tags": []
   },
   "source": [
    "## b)\n",
    "\n",
    "Write the generator function `factorials()` , which generates an infinite sequence of factorials:\n",
    "\n",
    "- Starting with `1! = 1`, calculate the factorials of the numbers *1!, 2!, 3!, 4!, 5!, 6!, …* and return each of them.\n",
    "- The factorial of a number $n$ (written as $n!$ ) is the product of all positive integers from $1$ to $n$:\n",
    "  $n!=n*(n−1)*(n−2)*⋯*2*1$\n",
    "\n",
    "\n",
    "**Hint:** Remember that the factorial of $𝑛$ is defined by the product of all positive integers from $1$ to $n$. It is not necessary to recalculate all products each time. Instead, you can use the factorial of the previous number to efficiently calculate the next factorial: \n",
    "If you have the factorial of $n-1$, then the factorial of $n$ is simply $(n-1)! * n$ .\n",
    "\n",
    "<br>\n",
    "\n",
    "Examples for `factorials()`:\n",
    "\n",
    "```python\n",
    "f = factorials()\n",
    "print(next(f)) # prints value 1\n",
    "print(next(f)) # prints value 2\n",
    "print(next(f)) # prints value 6\n",
    "print(next(f)) # prints value 24\n",
    "print(next(f)) # prints value 120\n",
    "print(next(f)) # prints value 720\n",
    "```"
   ]
  },
  {
   "cell_type": "markdown",
   "id": "93943a11-e96d-4c66-afc4-faf4a4f4f0b8",
   "metadata": {
    "cell_id": "A1.b.H.1",
    "deletable": false,
    "editable": false,
    "tags": []
   },
   "source": [
    "_**Optional:**_\n",
    "\n",
    "_If you cannot find a solution at the beginning, first note down the information given about the initial situation. Then think about and write down the individual steps you would take to reach the overall solution:_"
   ]
  },
  {
   "cell_type": "code",
   "execution_count": null,
   "id": "4be0fcaf",
   "metadata": {},
   "outputs": [],
   "source": []
  },
  {
   "cell_type": "markdown",
   "id": "693c438f-de0c-4492-8f61-c08e6d9be031",
   "metadata": {
    "cell_id": "A1.b.IS.Markdown",
    "deletable": false,
    "tags": []
   },
   "source": []
  },
  {
   "cell_type": "markdown",
   "id": "c18d06cc-546a-487e-a83a-7d3881ad906b",
   "metadata": {
    "cell_id": "A1.b.H.2",
    "deletable": false,
    "editable": false,
    "tags": []
   },
   "source": [
    "_Develop your code based on your individual steps:_\n"
   ]
  },
  {
   "cell_type": "code",
   "execution_count": null,
   "id": "9e870c6a-1c8e-481d-a7e7-606f203d64c9",
   "metadata": {
    "cell_id": "A1.b.IS.Code",
    "deletable": false,
    "tags": []
   },
   "outputs": [],
   "source": []
  },
  {
   "cell_type": "markdown",
   "id": "c1d14ba4-ce0d-482a-a16e-1098210ff7cf",
   "metadata": {
    "cell_id": "A2.TD",
    "deletable": false,
    "editables": false,
    "tags": []
   },
   "source": [
    "# Task 2\n",
    "\n",
    "From earlier lectures, you are already familiar with the `range()` function, which is used to generate a sequence of numbers that can be iterated.\n",
    "\n",
    "For this task, you will create your own implementations, by creating a class named `MyRange` . This class must fulfil the properties from the table.\n",
    "\n",
    " \n",
    "\n",
    "| <br> | Property | Explanation |\n",
    "| --- | --- | --- |\n",
    "| Attribute | `start` | An `int` that defines the start (inclusive =\\> similar to `start` in `range()` function). |\n",
    "| Attribute | `stop` | An `int` that defines the stop (exclusive =\\> similar to `stop` in `range()` function). |\n",
    "| Attribute | `cursor` | An `int` that defines the current value of the iterator. Is initialised when the `__iter__` method is called and iterates through the number sequence. |   \n",
    "| Method | `__init__(self, p_start, p_stop)` | Initialises the attributes `start` and `stop` based on the parameter `p_start` and `p_stop` (both are `int`).<br><br>You can assume that the following always applies when creating a new instance of  object:    p_stop`. |\n",
    "| Method | `__iter__(self)` | Initialises `cursor` to the `start` value and returns the `MyRange` object to make it iterable. |\n",
    "| Method | `__next__(self)` | Returns the current value of the `cursor` and increases it by 1. <br>If the `cursor` has reached the `stop` value, a `StopIteration` is thrown.<br> |\n",
    "\n",
    "<br>\n",
    "\n",
    "*Make sure that the following code below works with your implementation:*\n",
    "\n",
    "```python\n",
    "print(\"Example 1:\")\n",
    "my_range_example_1 = MyRange(0,2)\n",
    "for n in my_range_example_1:\n",
    "    print(n)\n",
    "for n in my_range_example_1:\n",
    "    print(n)\n",
    "\n",
    "print(\"\\nExample 2:\")\n",
    "my_range_example_2 = MyRange(-3,0)\n",
    "myrange_example_2_iterator = iter(my_range_example_2)\n",
    "print(myrange_example_2_iterator.start, myrange_example_2_iterator.stop, myrange_example_2_iterator.cursor)\n",
    "next(my_range_example_2)\n",
    "print(myrange_example_2_iterator.start, myrange_example_2_iterator.stop, myrange_example_2_iterator.cursor)\n",
    "next(my_range_example_2)\n",
    "print(myrange_example_2_iterator.start, myrange_example_2_iterator.stop, myrange_example_2_iterator.cursor)\n",
    "next(my_range_example_2)\n",
    "print(myrange_example_2_iterator.start, myrange_example_2_iterator.stop, myrange_example_2_iterator.cursor)\n",
    "# do NOT add the following lines to the submission, for your own testing purposes only\n",
    "# comment out next line to raise a StopIteration\n",
    "# next(my_range_example_2)\n",
    "```\n",
    "\n",
    "*The following should be printed:*\n",
    "\n",
    "```text\n",
    "Example 1:\n",
    "0\n",
    "1\n",
    "0\n",
    "1\n",
    "\n",
    "Example 2:\n",
    "-3 0 -3\n",
    "-3 0 -2\n",
    "-3 0 -1\n",
    "-3 0 0\n",
    "```"
   ]
  },
  {
   "cell_type": "markdown",
   "id": "62386b20-510a-4d04-a3ec-804b66773769",
   "metadata": {
    "cell_id": "A2.H.1",
    "deletable": false,
    "editable": false,
    "tags": []
   },
   "source": [
    "_**Optional:**_\n",
    "\n",
    "_If you cannot find a solution at the beginning, first note down the information given about the initial situation. Then think about and write down the individual steps you would take to reach the overall solution:_"
   ]
  },
  {
   "cell_type": "markdown",
   "id": "284f5a18-47eb-4814-802f-be5d43d454b7",
   "metadata": {
    "cell_id": "A2.IS.Markdown",
    "deletable": false,
    "tags": []
   },
   "source": []
  },
  {
   "cell_type": "markdown",
   "id": "4df1549d-5f94-4724-867e-71f04bf6a2de",
   "metadata": {
    "cell_id": "A2.H.2",
    "deletable": false,
    "editable": false,
    "tags": []
   },
   "source": [
    "_Develop your code based on your individual steps:_"
   ]
  },
  {
   "cell_type": "code",
   "execution_count": null,
   "id": "23f3b541-2d82-404b-99ad-04186c740c99",
   "metadata": {
    "cell_id": "A2.IS.Code",
    "deletable": false,
    "tags": []
   },
   "outputs": [],
   "source": []
  }
 ],
 "metadata": {
  "celltoolbar": "Edit Metadata",
  "interpreter": {
   "hash": "b0fa6594d8f4cbf19f97940f81e996739fb7646882a419484c72d19e05852a7e"
  },
  "kernelspec": {
   "display_name": "Python 3 (ipykernel)",
   "language": "python",
   "name": "python3"
  },
  "language_info": {
   "codemirror_mode": {
    "name": "ipython",
    "version": 3
   },
   "file_extension": ".py",
   "mimetype": "text/x-python",
   "name": "python",
   "nbconvert_exporter": "python",
   "pygments_lexer": "ipython3",
   "version": "3.9.7"
  },
  "notebook_name": "codingai/Exercise11.ipynb"
 },
 "nbformat": 4,
 "nbformat_minor": 5
}
