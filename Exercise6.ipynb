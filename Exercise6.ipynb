{
 "cells": [
  {
   "cell_type": "markdown",
   "id": "f7e8e594",
   "metadata": {
    "deletable": false,
    "editable": false,
    "tags": []
   },
   "source": [
    "<center><img width=\"250\"  align=\"right\" src=\"attachment:LuFgi9.png\" /></center>\n",
    "\n",
    "<br>\n",
    "<br>\n",
    "<br>\n",
    "<br>\n",
    "\n",
    "<center>\n",
    "    <h1> Scientific Programming for AI with Python</h1>\n",
    "    <h2> Exercise 6</h2>\n",
    "</center>"
   ]
  },
  {
   "cell_type": "markdown",
   "id": "37dc8ac3",
   "metadata": {
    "cell_id": "A1.TD",
    "deletable": false,
    "editable": false,
    "tags": []
   },
   "source": [
    "# Task 1\n",
    "\n",
    "There are different units of measurement for lengths in the world. However, in order to compare lengths worldwide, they must be converted into a uniform unit of measurement.\n",
    "\n",
    "The **meter** is the base unit of length in the International System of Units (SI). However, the data we received in the experiment has **foot** as the unit of measurement. The **conversion** from foot to meter is as follows:\n",
    "$$\n",
    "m = ft / 3.2808\n",
    "$$"
   ]
  },
  {
   "cell_type": "markdown",
   "id": "a52ba961-6c22-462b-904e-8ded4c937448",
   "metadata": {
    "cell_id": "A1.a.TD",
    "deletable": false,
    "editable": false,
    "tags": []
   },
   "source": [
    "## a)\n",
    "\n",
    "Write the lambda function `feet_to_meters` that calculates the length in meters from a length in feet. \n",
    "\n",
    "*For example, `feet_to_meters(6)` should return the `float` ~ `1.8288` and `feet_to_meters(10)` should return the `float` ~ `3.048`.*\n",
    "\n",
    "**Note:** This is only a rounded estimate. The function should return the exact value according to the given formula\n",
    "Do not use another formula from another source and do not round the value"
   ]
  },
  {
   "cell_type": "markdown",
   "id": "d2429212-5dd6-4005-ae9a-a84425a20c60",
   "metadata": {
    "cell_id": "A1.a.H.1",
    "deletable": false,
    "editable": false,
    "tags": []
   },
   "source": [
    "_**Optional:**_\n",
    "\n",
    "_If you cannot find a solution at the beginning, first note down the information given about the initial situation. Then think about and write down the individual steps you would take to reach the overall solution:_"
   ]
  },
  {
   "cell_type": "markdown",
   "id": "16bfc8e6-db2f-46ff-9ddd-942125b9e9d5",
   "metadata": {
    "cell_id": "A1.a.IS.Markdown",
    "deletable": false,
    "tags": []
   },
   "source": []
  },
  {
   "cell_type": "markdown",
   "id": "a6f406c1-9ee6-4678-9e39-9c06fd59e86d",
   "metadata": {
    "cell_id": "A1.a.H.2",
    "deletable": false,
    "editable": false,
    "tags": []
   },
   "source": [
    "_Develop your code based on your individual steps:_\n",
    "\n"
   ]
  },
  {
   "cell_type": "code",
   "execution_count": null,
   "id": "1f06145e",
   "metadata": {
    "cell_id": "A1.a.IS.Code",
    "tags": []
   },
   "outputs": [],
   "source": []
  },
  {
   "cell_type": "markdown",
   "id": "e0942eab",
   "metadata": {
    "cell_id": "A1.b.TD",
    "deletable": false,
    "editable": false,
    "tags": []
   },
   "source": [
    "## b)\n",
    "\n",
    "The function `list_conversion(...)` converts all lengths in a list to a different unit and returns a new list with the converted lengths. The order of the converted lengths in the new list corresponds to the order of the original lengths from the original list.\n",
    "\n",
    "The function `list_conversion(...)` has two parameters: `lambda_function` und `original_list`:\n",
    "\n",
    "- `lambda_function` is a lambda\\_function that converts a single number (for example `feet_to_meters` from task a)\n",
    "- `original_list` is the list containing the original lengths\n",
    "\n",
    "<br>\n",
    "\n",
    "**Important:** The original list (parameter `original_list` of the function `list_conversion(...)`) is not allowed to be changed!\n",
    "\n",
    "**Hint:** If you were not able to solve task 1a, you can still work on task 1b. If you want to test your code, you can use another lambda function for test purposes.\n",
    "\n",
    "<br>\n",
    "\n",
    "*Example call and return of the function `list_conversion(...)`:*\n",
    "\n",
    "```python\n",
    "# feet_to_meters is already defined / feet_to_meters ist bereits definiert\n",
    "\n",
    "list_with_feet = [6, 10]\n",
    "list_with_meters = list_conversion(feet_to_meters, list_with_feet)\n",
    "\n",
    "# list_with_meters is the list [1.8288222384784198, 3.0480370641306997]\n",
    "```"
   ]
  },
  {
   "cell_type": "markdown",
   "id": "a23b0f2c-e1aa-4abe-bf2a-dbd7f18b09cd",
   "metadata": {
    "cell_id": "A1.b.H.1",
    "deletable": false,
    "editable": false,
    "tags": []
   },
   "source": [
    "_**Optional:**_\n",
    "\n",
    "_If you cannot find a solution at the beginning, first note down the information given about the initial situation. Then think about and write down the individual steps you would take to reach the overall solution:_\n"
   ]
  },
  {
   "cell_type": "markdown",
   "id": "bd961881-7914-452e-92b8-7a77867a6064",
   "metadata": {
    "cell_id": "A1.b.IS.Markdown",
    "deletable": false,
    "tags": []
   },
   "source": []
  },
  {
   "cell_type": "markdown",
   "id": "b05b09ad-2595-4c32-9667-e07ab86eeddc",
   "metadata": {
    "cell_id": "A1.b.H.2",
    "deletable": false,
    "editable": false,
    "tags": []
   },
   "source": [
    "_Develop your code based on your individual steps:_\n"
   ]
  },
  {
   "cell_type": "code",
   "execution_count": null,
   "id": "93305c97",
   "metadata": {
    "cell_id": "A1.b.IS.Code",
    "deletable": false,
    "tags": []
   },
   "outputs": [],
   "source": []
  },
  {
   "cell_type": "markdown",
   "id": "a9decca7",
   "metadata": {
    "cell_id": "A1.c.TD",
    "deletable": false,
    "editable": false,
    "tags": []
   },
   "source": [
    "# c)\n",
    "\n",
    "Such functions can be implemented even shorter as list comprehensions. Therefore, write the function `list_conversion_comprehension(...)` using a list comprehension inside the function.  \n",
    "Similar to b), the function converts all lengths in a list to a different unit and returns a new list with the converted lengths. The order of the converted lengths in the new list corresponds to the order of the original lengths from the original list.\n",
    "\n",
    "The function `list_conversion_comprehension(...)` has also two parameters: `lambda_function` und `original_list`:\n",
    "\n",
    "- `lambda_function` is a lambda\\_function that converts a single number (for example `feet_to_meters` from task a)\n",
    "- `original_list` is the list containing the original lengths\n",
    "\n",
    "<br>\n",
    "\n",
    "**Important:** The original list (parameter `original_list` of the function `list_conversion_comprehension(...)`) is not allowed to be changed!\n",
    "\n",
    "**Hint:** If you were not able to solve task 1a, you can still work on task 1c. If you want to test your code, you can use another lambda function for test purposes.\n",
    "\n",
    "<br>\n",
    "\n",
    "*Example call and return of the function `list_conversion_comprehension(...)`:*\n",
    "\n",
    "```python\n",
    "# feet_to_meters is already defined\n",
    "\n",
    "list_with_feet = [6, 10]\n",
    "list_with_meters = list_conversion_comprehension(feet_to_meters, list_with_feet)\n",
    "\n",
    "# list_with_meters is the list [1.8288222384784198, 3.0480370641306997]\n",
    "```"
   ]
  },
  {
   "cell_type": "markdown",
   "id": "fcf8b4c0-f6ef-483f-9556-c795fb44a551",
   "metadata": {
    "cell_id": "A1.c.H.1",
    "deletable": false,
    "editable": false,
    "tags": []
   },
   "source": [
    "_**Optional:**_\n",
    "\n",
    "_If you cannot find a solution at the beginning, first note down the information given about the initial situation. Then think about and write down the individual steps you would take to reach the overall solution:_"
   ]
  },
  {
   "cell_type": "markdown",
   "id": "4aca2996-82fc-4ad6-a6c6-76245a98a13c",
   "metadata": {
    "cell_id": "A1.c.IS.Markdown",
    "deletable": false,
    "tags": []
   },
   "source": []
  },
  {
   "cell_type": "markdown",
   "id": "b6221331-94e3-436a-b42a-9873f24bb142",
   "metadata": {
    "cell_id": "A1.c.H.2",
    "deletable": false,
    "editable": false,
    "tags": []
   },
   "source": [
    "_Develop your code based on your individual steps:_\n"
   ]
  },
  {
   "cell_type": "code",
   "execution_count": null,
   "id": "5490c577-cc50-4ba8-ba0b-926c4f6ad01c",
   "metadata": {
    "cell_id": "A1.c.IS.Code",
    "deletable": false,
    "tags": []
   },
   "outputs": [],
   "source": []
  },
  {
   "cell_type": "markdown",
   "id": "2f28cc9f-b86a-4971-9800-eb597479ef46",
   "metadata": {
    "cell_id": "A2.TD",
    "deletable": false,
    "editable": false,
    "tags": []
   },
   "source": [
    "---\n",
    "# Task 2\n",
    "\n",
    "During the lecture, you learned about lambda expressions and list comprehension as well as other helpful paradigms of functional programming. In the following tasks, use the appropriate paradigms."
   ]
  },
  {
   "cell_type": "markdown",
   "id": "2f802e12-e258-46df-a216-77f2bd40d596",
   "metadata": {
    "cell_id": "A2.a.TD.1",
    "deletable": false,
    "editable": false,
    "tags": []
   },
   "source": [
    "## a)\n",
    "\n",
    "Given a list of city names `city_names` and a list of the corresponding postal codes `city_postal_codes`. Write the function `create_city_dic(...)`, which receives the two lists as parameters and, using functional programming paradigms, creates a dictionary containing the city name as a key and the postal code as a value. Return this dictionary afterwards. The input parameters are to be designated as `names` and `postal_codes`. Use the function `zip()`.\n",
    "\n",
    "*For example, `create_city_dic(city_names, city_postal_codes)` should return the dictionary `{'Aachen': 52062, 'Eschweiler': 52249, 'Wuerselen': 52146, 'Alsdorf': 52477, 'Stolberg': 52222}`.*"
   ]
  },
  {
   "cell_type": "markdown",
   "id": "2dab85d1-7e16-4629-b321-1e382a4179c9",
   "metadata": {
    "cell_id": "A2.a.H.1",
    "deletable": false,
    "editable": false,
    "tags": []
   },
   "source": [
    "_**Optional:**_\n",
    "\n",
    "_If you cannot find a solution at the beginning, first note down the information given about the initial situation. Then think about and write down the individual steps you would take to reach the overall solution:_"
   ]
  },
  {
   "cell_type": "markdown",
   "id": "6adc7dea-03ed-4ef0-8405-2fa7b4661224",
   "metadata": {
    "cell_id": "A2.a.IS.Markdown",
    "deletable": false,
    "tags": []
   },
   "source": []
  },
  {
   "cell_type": "markdown",
   "id": "e04790b0-a956-45be-b21c-5bb1965376d3",
   "metadata": {
    "cell_id": "A2.a.H.2",
    "deletable": false,
    "editable": false,
    "tags": []
   },
   "source": [
    "_Develop your code based on your individual steps:_\n"
   ]
  },
  {
   "cell_type": "code",
   "execution_count": null,
   "id": "cc871f3a-44d3-4eea-85d5-246b5ebf8230",
   "metadata": {
    "cell_id": "A2.a.TD.2",
    "deletable": false,
    "editable": false,
    "tags": []
   },
   "outputs": [],
   "source": [
    "city_names = ['Aachen', 'Eschweiler', 'Wuerselen', 'Alsdorf', 'Stolberg']\n",
    "city_postal_codes = [52062, 52249, 52146, 52477, 52222]"
   ]
  },
  {
   "cell_type": "code",
   "execution_count": null,
   "id": "07198363-79e0-473e-af8b-2c572e3dc569",
   "metadata": {
    "cell_id": "A2.a.IS.Code",
    "deletable": false,
    "tags": []
   },
   "outputs": [],
   "source": []
  },
  {
   "cell_type": "markdown",
   "id": "64af090f-d06a-4699-9a95-03d1ace5216b",
   "metadata": {
    "cell_id": "A2.b.TD.1",
    "deletable": false,
    "editable": false,
    "tags": []
   },
   "source": [
    "## b)\n",
    "\n",
    "Given is the function `count_a_occurences(...)`, which determines the amount of times the letter `a` occurs in a string.\n",
    "\n",
    "Create the function `count_a_occurences_list(...)`, which has a list of strings as a parameter. In the function, create a new list in which each element stores the number of times the letter `a` occurs in the given list. Return the new list. To solve this utilize the `map()`  function.\n",
    "\n",
    "*For example, `count_a_occurences_list([\"horse\", \"alligator\", \"cat\", \"alpaca\", \"dog\", \"ant\", \"anaconda\"])` should return the list `[0, 2, 1, 3, 0, 1, 3]`.*"
   ]
  },
  {
   "cell_type": "markdown",
   "id": "625f66c0-fa9c-4524-aabb-4b52b86c2bc4",
   "metadata": {
    "cell_id": "A2.b.H.1",
    "deletable": false,
    "editable": false,
    "tags": []
   },
   "source": [
    "_**Optional:**_\n",
    "\n",
    "_If you cannot find a solution at the beginning, first note down the information given about the initial situation. Then think about and write down the individual steps you would take to reach the overall solution:_"
   ]
  },
  {
   "cell_type": "markdown",
   "id": "a4f2b2cd-6c88-49c1-8451-b5f3bef6b185",
   "metadata": {
    "cell_id": "A2.b.H.2",
    "deletable": false,
    "editable": false,
    "tags": []
   },
   "source": [
    "_Develop your code based on your individual steps:_\n"
   ]
  },
  {
   "cell_type": "code",
   "execution_count": null,
   "id": "aadcd6ff-f5da-4a2a-bf55-80e7c8c61e8c",
   "metadata": {
    "cell_id": "A2.b.TD.2",
    "deletable": false,
    "editable": false,
    "tags": []
   },
   "outputs": [],
   "source": [
    "count_a_occurences = lambda x: x.count('a')"
   ]
  },
  {
   "cell_type": "code",
   "execution_count": null,
   "id": "cc156896-69a0-42d8-9b48-7c49c8bb95f5",
   "metadata": {
    "cell_id": "A2.b.IS.Code",
    "deletable": false,
    "tags": []
   },
   "outputs": [],
   "source": []
  },
  {
   "cell_type": "markdown",
   "id": "81162fc3-172b-4fd6-94aa-d6fff3952b3a",
   "metadata": {
    "cell_id": "A2.c.TD",
    "deletable": false,
    "editable": false,
    "tags": []
   },
   "source": [
    "## c)\n",
    "\n",
    "Your professor wants to find all exams, that got over 85 points in the exam in order to find new tutors for the next semester.\n",
    "Write the function `good_scores(...)` which gets a list of the scores from an exam. The function should delete all values that are smaller than 86. Use the function `filter()`.\n",
    "\n",
    "*For example, `good_scores([95,23,76,85,86,13,99])` should return the list `[95, 86, 99]`.*"
   ]
  },
  {
   "cell_type": "markdown",
   "id": "6ea46dcd-922e-49b0-a958-3d4d0195a451",
   "metadata": {
    "cell_id": "A2.c.H.1",
    "deletable": false,
    "editable": false,
    "tags": []
   },
   "source": [
    "_**Optional:**_\n",
    "\n",
    "_If you cannot find a solution at the beginning, first note down the information given about the initial situation. Then think about and write down the individual steps you would take to reach the overall solution:_"
   ]
  },
  {
   "cell_type": "markdown",
   "id": "6bae227c-ccb1-41ec-987d-180bbdee30b3",
   "metadata": {
    "cell_id": "A2.c.IS.Markdown",
    "deletable": false,
    "tags": []
   },
   "source": []
  },
  {
   "cell_type": "markdown",
   "id": "842332ce-b99b-446f-879a-56223093da66",
   "metadata": {
    "cell_id": "A2.c.H.2",
    "deletable": false,
    "editable": false,
    "tags": []
   },
   "source": [
    "_Develop your code based on your individual steps:_\n"
   ]
  },
  {
   "cell_type": "code",
   "execution_count": null,
   "id": "01ddb559-b1ca-40cd-a865-f490d6c91d83",
   "metadata": {
    "cell_id": "A2.c.IS.Code",
    "deletable": false,
    "tags": []
   },
   "outputs": [],
   "source": []
  },
  {
   "cell_type": "markdown",
   "id": "619d3d28-cbd3-4a30-8d29-7fa0bd35a2c4",
   "metadata": {
    "cell_id": "A3.TD",
    "deletable": false,
    "editable": false,
    "tags": []
   },
   "source": [
    "---\n",
    "# Task 3\n",
    "\n",
    "In exercise 4 you have implemented the function `invert(...)`. This function can now also be written much more easily with the help of a List Comprehension.\n",
    "\n",
    "Therefore, implement the function `invert_list_compr(...)` which takes an image as a parameter named `image` and returns the inverted image. The passed grayscale image itself is not allowed to be changed.\n",
    "\n",
    "This time your function should also work for rectangular images. Solve the problem within the function `invert_list_compr(...)` as a list comprehension.\n",
    "\n",
    "*For example, `invert_list_compr([[255,170,85,0],[0,85,170,255],[0,255,255,0]])` should return the list `[[0, 85, 170, 255], [255, 170, 85, 0], [255, 0, 0, 255]]`.*"
   ]
  },
  {
   "cell_type": "markdown",
   "id": "1e19f067-10ab-4f08-8538-27954165321b",
   "metadata": {
    "cell_id": "A3.H.1",
    "deletable": false,
    "editable": false,
    "tags": []
   },
   "source": [
    "_**Optional:**_\n",
    "\n",
    "_If you cannot find a solution at the beginning, first note down the information given about the initial situation. Then think about and write down the individual steps you would take to reach the overall solution:_"
   ]
  },
  {
   "cell_type": "markdown",
   "id": "41e575fb-a9ca-46a3-a6ff-301263e64f01",
   "metadata": {
    "cell_id": "A3.IS.Markdown",
    "deletable": false,
    "tags": []
   },
   "source": []
  },
  {
   "cell_type": "markdown",
   "id": "ac2a2d50-eddf-49ca-9f60-2601177205d5",
   "metadata": {
    "cell_id": "A3.H.2",
    "deletable": false,
    "editable": false,
    "tags": []
   },
   "source": [
    "_Develop your code based on your individual steps:_\n"
   ]
  },
  {
   "cell_type": "code",
   "execution_count": null,
   "id": "151d5290-cf75-432e-a138-29d7adfa0d87",
   "metadata": {
    "cell_id": "A3.IS.Code",
    "deletable": false,
    "tags": []
   },
   "outputs": [],
   "source": []
  }
 ],
 "metadata": {
  "celltoolbar": "Create Assignment",
  "interpreter": {
   "hash": "b0fa6594d8f4cbf19f97940f81e996739fb7646882a419484c72d19e05852a7e"
  },
  "kernelspec": {
   "display_name": "Python 3 (ipykernel)",
   "language": "python",
   "name": "python3"
  },
  "language_info": {
   "codemirror_mode": {
    "name": "ipython",
    "version": 3
   },
   "file_extension": ".py",
   "mimetype": "text/x-python",
   "name": "python",
   "nbconvert_exporter": "python",
   "pygments_lexer": "ipython3",
   "version": "3.9.7"
  },
  "notebook_name": "codingai/Exercise6.ipynb"
 },
 "nbformat": 4,
 "nbformat_minor": 5
}
