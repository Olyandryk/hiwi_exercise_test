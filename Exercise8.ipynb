{
 "cells": [
  {
   "cell_type": "markdown",
   "id": "f7e8e594",
   "metadata": {
    "deletable": false,
    "editable": false,
    "tags": []
   },
   "source": [
    "<center><img width=\"250\"  align=\"right\" src=\"attachment:LuFgi9.png\" /></center>\n",
    "\n",
    "<br>\n",
    "<br>\n",
    "<br>\n",
    "<br>\n",
    "\n",
    "<center>\n",
    "    <h1> Scientific Programming for AI with Python</h1>\n",
    "    <h2> Exercise 10</h2>\n",
    "</center>"
   ]
  },
  {
   "cell_type": "markdown",
   "id": "f14a7880-5a1d-4287-acfd-79ce0eb51c39",
   "metadata": {
    "cell_id": "A1.a.TD",
    "deletable": false,
    "editable": false,
    "tags": []
   },
   "source": [
    "# Task 1\n",
    "\n",
    "## a)\n",
    "\n",
    "Write the function `read_and_clean(path)` which reads in any text file (.txt) (parameter `path`) and returns a `list` which contains each line of the file as a separate element. \n",
    "Make sure that any spaces at the beginning or end of a line are removed and skip lines that are empty or contain only spaces.\n",
    "\n",
    "**Important:** The function `read_and_clean(path)` expects the path to the file to be read as the only argument `path`. You can use the file `example_file_read_and_clean.txt`.\n",
    "\n",
    "---\n",
    "\n",
    "<br>\n",
    "\n",
    "*Content of  `example_file_read_and_clean.txt`:*\n",
    "\n",
    "```text\n",
    "     This\n",
    "is      \n",
    "  a  \n",
    "     test! \n",
    "Please \n",
    "\n",
    " make  \n",
    "  sure \n",
    "   that the file contents are read in as a list, line by line.  \n",
    "```\n",
    "\n",
    "*Make sure that the following code works with your implementation:*\n",
    "\n",
    "```python\n",
    "file_content = read_and_clean(\"example_file_read_and_clean.txt\")\n",
    "print(file_content)\n",
    "```\n",
    "\n",
    "*The following should be printed:*\n",
    "\n",
    "```text\n",
    "['This', 'is', 'a', 'test!', 'Please', 'make', 'sure', 'that the file contents are read in as a list, line by line.']\n",
    "```"
   ]
  },
  {
   "cell_type": "markdown",
   "id": "3b9bd46e-296b-424e-80f4-e86b668b364f",
   "metadata": {
    "cell_id": "A1.a.H.1",
    "deletable": false,
    "editable": false,
    "tags": []
   },
   "source": [
    "_**Optional:**_\n",
    "\n",
    "_If you cannot find a solution at the beginning, first note down the information given about the initial situation. Then think about and write down the individual steps you would take to reach the overall solution:_"
   ]
  },
  {
   "cell_type": "markdown",
   "id": "21c8cc79-99ef-4bed-8792-5e96594bd338",
   "metadata": {
    "cell_id": "A1.a.IS.Markdown",
    "deletable": false,
    "tags": []
   },
   "source": []
  },
  {
   "cell_type": "markdown",
   "id": "a8f4cc92-011f-4356-9e44-f7e3205b4fd1",
   "metadata": {
    "cell_id": "A1.a.H.2",
    "deletable": false,
    "editable": false,
    "tags": []
   },
   "source": [
    "_Develop your code based on your individual steps:_\n"
   ]
  },
  {
   "cell_type": "code",
   "execution_count": null,
   "id": "b3ed4659-086e-4416-8229-ed3ed5dc130e",
   "metadata": {
    "cell_id": "A1.a.IS.Code",
    "deletable": false,
    "tags": []
   },
   "outputs": [],
   "source": []
  },
  {
   "cell_type": "markdown",
   "id": "a2dbd109-72c6-4a8e-bf68-0c565853c209",
   "metadata": {
    "cell_id": "A1.b.TD",
    "deletable": false,
    "editable": false,
    "tags": []
   },
   "source": [
    "## b)\n",
    "\n",
    "Write a function `save_to_csv(persons, path)` that stores the information about persons in a CSV file (`path`). \n",
    "\n",
    "The data for each person includes the name, age and profession. This information is stored in the dictionary `persons`, whereby the structure of the dictionary looks like that of `example_persons` (see code example below).\n",
    "\n",
    "The function should fulfil the following requirements:\n",
    "\n",
    "1. You should write the data to a CSV file (and not append it).\n",
    "2. The CSV file should contain the column headings `Name`, `Age` and `Profession`.\n",
    "3. Each line of the CSV file should contain the data of a person, whereby the name, age and profession are entered according to the values in the dictionary `persons`.\n",
    "4. The delimiter in the CSV file should be `;`.\n",
    "\n",
    "\n",
    "**Note:** You can assume that only correctly formatted dictionaries are passed to the function.\n",
    "\n",
    "<br>\n",
    "\n",
    "*Make sure that the following code works with your implementation:*\n",
    "\n",
    "```python\n",
    "example_persons = {\n",
    "    \"Max Mustermann\": {\"Age\": 30, \"Profession\": \"Software developer\"},\n",
    "    \"Maria Mueller\": {\"Age\": 25, \"Profession\": \"Graphic designer\"},\n",
    "    \"John Doe\": {\"Age\": 35, \"Profession\": \"Teacher\"}\n",
    "}\n",
    "\n",
    "save_to_csv(example_persons, \"testing_save_to_csv.csv\")\n",
    "```\n",
    "\n",
    "*After execution of your function, your CSV file should look like tte following:*\n",
    "\n",
    "```text\n",
    "Name;Age;Profession\n",
    "Max Mustermann;30;Software developer\n",
    "Maria Mueller;25;Graphic designer\n",
    "John Doe;35;Teacher\n",
    "```"
   ]
  },
  {
   "cell_type": "markdown",
   "id": "fd4c0b53-4fc5-447e-95f2-86179267421d",
   "metadata": {
    "cell_id": "A1.b.H.1",
    "deletable": false,
    "editable": false,
    "tags": []
   },
   "source": [
    "_**Optional:**_\n",
    "\n",
    "_If you cannot find a solution at the beginning, first note down the information given about the initial situation. Then think about and write down the individual steps you would take to reach the overall solution:_"
   ]
  },
  {
   "cell_type": "markdown",
   "id": "47243fe8-b299-4a57-a8f6-4dcc046de318",
   "metadata": {
    "cell_id": "A1.b.IS.Markdown",
    "deletable": false,
    "tags": []
   },
   "source": []
  },
  {
   "cell_type": "markdown",
   "id": "c1d139d9-dd41-4678-a0df-94c3ac89e26d",
   "metadata": {
    "cell_id": "A1.b.H.2",
    "deletable": false,
    "editable": false,
    "tags": []
   },
   "source": [
    "_Develop your code based on your individual steps:_\n"
   ]
  },
  {
   "cell_type": "code",
   "execution_count": null,
   "id": "60737e84-960f-4405-af68-044d7b9c96a3",
   "metadata": {
    "cell_id": "A1.b.IS.Code",
    "deletable": false,
    "tags": []
   },
   "outputs": [],
   "source": []
  },
  {
   "cell_type": "markdown",
   "id": "2f28cc9f-b86a-4971-9800-eb597479ef46",
   "metadata": {
    "cell_id": "A2.TD",
    "deletable": false,
    "editable": false,
    "tags": []
   },
   "source": [
    "---\n",
    "# Task 2\n",
    "\n",
    "## Information\n",
    "\n",
    "Every year around St. Nicholas time, St. Nicholas walks through the streets to either put sweets in the children's shoes or - if they have been naughty - have them punished by his helper Knecht Ruprecht.\n",
    "\n",
    "However, as St. Nicholas is already very old, he finds it increasingly difficult to read in his omniscient book which children have been good and which have not. Unfortunately, he can no longer work out for himself who deserves to be rewarded or punished.\n",
    "\n",
    "That's why St. Nicholas asks you for help: he needs a programme to help him with this task so that he can look in his book and quickly find out which children have been good and which have not. Your task is to develop a solution that helps him to search through the omniscient book and decide who gets sweets and who gets a punishment."
   ]
  },
  {
   "cell_type": "markdown",
   "id": "c1d14ba4-ce0d-482a-a16e-1098210ff7cf",
   "metadata": {
    "cell_id": "A2.a.TD.1",
    "deletable": false,
    "editable": false,
    "tags": []
   },
   "source": [
    "## a)\n",
    "\n",
    "Implement the exception `ChildNotFoundException`. This is used to provide specific feedback if no information can be found for a child in the omniscient book.\n",
    "\n",
    "The exception receives the *name of the child* (attribute `child`) that was searched for. When the exception is thrown, the following readable description should be displayed: `f\"The child {self.child}} was not found in the omniscient book.\"`\n",
    "\n",
    "<br>\n",
    "\n",
    "*Make sure that the following code works with your implementation:*\n",
    "\n",
    "```python\n",
    "print(\"Example 1:\")\n",
    "exception_exmaple_1 = ChildNotFoundException(\"Knecht Ruprecht\")\n",
    "print(exception_exmaple_1)\n",
    "\n",
    "print(\"\\nExample 2:\")\n",
    "exception_exmaple_2 = ChildNotFoundException(\"Nikolaus\")\n",
    "print(exception_exmaple_2)\n",
    "```\n",
    "\n",
    "*The following should be printed:*\n",
    "\n",
    "```text\n",
    "Example 1:\n",
    "The child Knecht Ruprecht was not found in the omniscient book.\n",
    "\n",
    "Example 2:\n",
    "The child Nikolaus was not found in the omniscient book.\n",
    "```"
   ]
  },
  {
   "cell_type": "markdown",
   "id": "df35ad35-4e24-4289-b990-674c6d40b30f",
   "metadata": {
    "cell_id": "A2.a.H.1",
    "deletable": false,
    "editable": false,
    "tags": []
   },
   "source": [
    "_**Optional:**_\n",
    "\n",
    "_If you cannot find a solution at the beginning, first note down the information given about the initial situation. Then think about and write down the individual steps you would take to reach the overall solution:_"
   ]
  },
  {
   "cell_type": "markdown",
   "id": "8401c58e-7312-46cd-aae7-88fb447bbad9",
   "metadata": {
    "cell_id": "A2.a.H.2",
    "deletable": false,
    "editable": false,
    "tags": []
   },
   "source": [
    "_Develop your code based on your individual steps:_\n"
   ]
  },
  {
   "cell_type": "code",
   "execution_count": null,
   "id": "23f3b541-2d82-404b-99ad-04186c740c99",
   "metadata": {
    "cell_id": "A2.a.IS.Code",
    "deletable": false,
    "tags": []
   },
   "outputs": [],
   "source": []
  },
  {
   "cell_type": "markdown",
   "id": "3e5dd53c-bc31-4241-a427-e932d1671aeb",
   "metadata": {
    "cell_id": "A2.b.TD",
    "deletable": false,
    "editable": false,
    "tags": []
   },
   "source": [
    "## b)\n",
    "\n",
    "In the next step, implement the exception `NicholasTooFatException`. This is used to provide specific feedback if St. Nicholas cannot fit through a chimney with his gift bag.\n",
    "\n",
    "The exception receives the *missing width* (attribute `missing_space`), which specifies by how many millimetres the St. Nicholas is too thick for the current chimney. If the exception is thrown, the following readable description should be displayed:\n",
    "`f\"For the given chimney, St. Nicholas is {self.missing_space} mm too fat.\"`\n",
    "\n",
    "<br>\n",
    "\n",
    "*Make sure that the following code works with your implementation:*\n",
    "\n",
    "```python\n",
    "print(\"Example 1:\")\n",
    "exception_exmaple_1 = NicholasTooFatException(5)\n",
    "print(exception_exmaple_1)\n",
    "\n",
    "print(\"\\nExample 2:\")\n",
    "exception_exmaple_2 = NicholasTooFatException(17.5)\n",
    "print(exception_exmaple_2)\n",
    "```\n",
    "\n",
    "*The following should be printed:*\n",
    "\n",
    "```text\n",
    "Example 1:\n",
    "For the given chimney, St. Nicholas is 5 mm too fat.\n",
    "\n",
    "Example 2:\n",
    "For the given chimney, St. Nicholas is 17.5 mm too fat.\n",
    "```"
   ]
  },
  {
   "cell_type": "markdown",
   "id": "6fda60e1-a4a4-46f5-bada-149699c8755e",
   "metadata": {
    "cell_id": "A2.b.H.1",
    "deletable": false,
    "editable": false,
    "tags": []
   },
   "source": [
    "_**Optional:**_\n",
    "\n",
    "_If you cannot find a solution at the beginning, first note down the information given about the initial situation. Then think about and write down the individual steps you would take to reach the overall solution:_"
   ]
  },
  {
   "cell_type": "code",
   "execution_count": null,
   "id": "ce0a9bec",
   "metadata": {},
   "outputs": [],
   "source": []
  },
  {
   "cell_type": "markdown",
   "id": "374b56e5-a2fe-4c5a-810d-c930dc26c33c",
   "metadata": {
    "cell_id": "A2.b.IS.Markdown",
    "deletable": false,
    "tags": []
   },
   "source": []
  },
  {
   "cell_type": "markdown",
   "id": "af263979-a737-46da-b15e-8787e79a2e03",
   "metadata": {
    "cell_id": "A2.b.H.2",
    "deletable": false,
    "editable": false,
    "tags": []
   },
   "source": [
    "_Develop your code based on your individual steps:_\n"
   ]
  },
  {
   "cell_type": "code",
   "execution_count": null,
   "id": "dc91c586-6e7b-4669-97d8-c73ef2784ad5",
   "metadata": {
    "cell_id": "A2.b.IS.Code",
    "deletable": false,
    "tags": []
   },
   "outputs": [],
   "source": []
  },
  {
   "cell_type": "markdown",
   "id": "4ddd2089-08a3-4898-9b3a-045de507c82f",
   "metadata": {
    "cell_id": "A2.c.TD",
    "deletable": false,
    "editable": false,
    "tags": []
   },
   "source": [
    "## c)\n",
    "\n",
    "Now that the necessary preparations have been made,  St. Nicholas is asking you to implement a function named `book_lookup(book, child, nicholas_size)`, which will allow him to check whether a child has been good or not. The function should have the following parameters:\n",
    "\n",
    "- `book`: An instance of the omniscient book. A sample instance named `omniscient_book` is already provided, and it contains, for each child, the diameter of the chimney (as an `int`) as well as the information on whether the child has been good (as a `bool`).\n",
    "- `child`: The name of the child to be checked.\n",
    "- `nicholas_size`: The current diameter of St. Nicholas (including his gift sack) in millimeters.\n",
    "\n",
    "<br>\n",
    "\n",
    "The function `book_lookup(…)` should exhibit the following behavior:\n",
    "\n",
    "- If the `child` is not found in theomniscient book, a `ChildNotFoundException` should be raised.\n",
    "- If the `child` is found, but the chimney of their house is too small, a `NicholasTooFatException` should be raised. The diameter of the chimney should be compared with the value of `nicholas_size`.\n",
    "- If the `child` is found and St. Nicholas can fit through the chimney, the function should return whether the child was good or not. This is determined by a `bool` value stored in the book.\n",
    "\n",
    "**Note:** You can use the exceptions from task parts a) and b) in this subtask even if you have not implemented them.\n",
    "\n",
    "<br>\n",
    "\n",
    "*Make sure that the following code works with your implementation:*\n",
    "\n",
    "```python\n",
    "omniscient_book = {\n",
    "    \"Maxi\": (370, True),\n",
    "    \"Jo\": (500, False),\n",
    "    \"Karen\": (100, False),\n",
    "    \"George\": (250, True),\n",
    "    \"Michael\": (400, True)\n",
    "}\n",
    "\n",
    "is_child1_good = book_lookup(omniscient_book, \"Maxi\", 350)\n",
    "is_child2_good = book_lookup(omniscient_book, \"Karen\", 50)\n",
    "print(is_child1_good)\n",
    "print(is_child2_good)\n",
    "\n",
    "# do NOT add the following lines to the submission, for your own testing purposes only\n",
    "\n",
    "# comment out next line to raise a ChildNotFoundException\n",
    "#is_child_3_good = book_lookup(omniscient_book, \"Joey\", 550)\n",
    "\n",
    "# comment out next line to raise a NicholasTooFatException\n",
    "#is_child_4_good = book_lookup(omniscient_book, \"Jo\", 550)\n",
    "```\n",
    "\n",
    "*The following should be printed:*\n",
    "\n",
    "```text\n",
    "True\n",
    "False\n",
    "```"
   ]
  },
  {
   "cell_type": "markdown",
   "id": "371b8d46-2ff2-45ce-94f6-5aa1f4cce8ba",
   "metadata": {
    "cell_id": "A2.c.H.1",
    "deletable": false,
    "editable": false,
    "tags": []
   },
   "source": [
    "_**Optional:**_\n",
    "\n",
    "_If you cannot find a solution at the beginning, first note down the information given about the initial situation. Then think about and write down the individual steps you would take to reach the overall solution:_"
   ]
  },
  {
   "cell_type": "markdown",
   "id": "2dd6789e-4f4a-499c-a1fe-39dd3fc0f322",
   "metadata": {
    "cell_id": "A2.c.IS.Markdown",
    "deletable": false,
    "tags": []
   },
   "source": []
  },
  {
   "cell_type": "markdown",
   "id": "aafcf4b4-3bc8-4900-a16c-cf566e7d4e72",
   "metadata": {
    "cell_id": "A2.c.H.2",
    "deletable": false,
    "editable": false,
    "tags": []
   },
   "source": [
    "_Develop your code based on your individual steps:_\n"
   ]
  },
  {
   "cell_type": "code",
   "execution_count": null,
   "id": "936b7bdf-ab76-4853-851c-fe220cb27da7",
   "metadata": {
    "cell_id": "A2.c.IS.Code",
    "deletable": false,
    "tags": []
   },
   "outputs": [],
   "source": []
  },
  {
   "cell_type": "markdown",
   "id": "3bab7a3e-723d-4c7c-be10-3032bce4ae1f",
   "metadata": {
    "cell_id": "A3.TD",
    "deletable": false,
    "editable": false,
    "tags": []
   },
   "source": [
    "---\n",
    "# Task 3\n",
    "\n",
    "Write a function `exception_catcher()`, which can catch various exceptions. For this purpose your function should call the predefined function `exception_raiser()` , which can throw various exceptions. In case of an exception, proceed as follows:\n",
    "\n",
    "- `FileNotFoundError`: Return the value 5\n",
    "- `TypeError` or `IndexError`: Return the value 8\n",
    "- `AttributeError`: Return the value 2\n",
    "- If the raised exception is none of the above, return 9\n",
    "\n",
    "If the function `exception_raiser()` does not throw an exception, your function should return 0."
   ]
  },
  {
   "cell_type": "markdown",
   "id": "a01a478a-6646-4bb2-90ab-8163a62ebff2",
   "metadata": {
    "cell_id": "A3.H.1",
    "deletable": false,
    "editable": false,
    "tags": []
   },
   "source": [
    "_**Optional:**_\n",
    "\n",
    "_If you cannot find a solution at the beginning, first note down the information given about the initial situation. Then think about and write down the individual steps you would take to reach the overall solution:_"
   ]
  },
  {
   "cell_type": "markdown",
   "id": "3c4c3dd1-afea-4a9a-95c6-bc4e5180b33f",
   "metadata": {
    "cell_id": "A3.IS.Markdown",
    "deletable": false,
    "tags": []
   },
   "source": []
  },
  {
   "cell_type": "markdown",
   "id": "0624bd85-d8a7-4f16-99b9-4d712f6c131c",
   "metadata": {
    "cell_id": "A3.H.2",
    "deletable": false,
    "editable": false,
    "tags": []
   },
   "source": [
    "_Develop your code based on your individual steps:_\n"
   ]
  },
  {
   "cell_type": "code",
   "execution_count": null,
   "id": "525747cc-cd3f-4172-8f89-a581bb375184",
   "metadata": {
    "cell_id": "A3.IS.Code",
    "deletable": false,
    "tags": []
   },
   "outputs": [],
   "source": []
  }
 ],
 "metadata": {
  "celltoolbar": "Create Assignment",
  "interpreter": {
   "hash": "b0fa6594d8f4cbf19f97940f81e996739fb7646882a419484c72d19e05852a7e"
  },
  "kernelspec": {
   "display_name": "Python 3 (ipykernel)",
   "language": "python",
   "name": "python3"
  },
  "language_info": {
   "codemirror_mode": {
    "name": "ipython",
    "version": 3
   },
   "file_extension": ".py",
   "mimetype": "text/x-python",
   "name": "python",
   "nbconvert_exporter": "python",
   "pygments_lexer": "ipython3",
   "version": "3.9.7"
  },
  "notebook_name": "codingai/Exercise10.ipynb"
 },
 "nbformat": 4,
 "nbformat_minor": 5
}
